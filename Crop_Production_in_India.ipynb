{
  "nbformat": 4,
  "nbformat_minor": 0,
  "metadata": {
    "kernelspec": {
      "display_name": "Python 3",
      "language": "python",
      "name": "python3"
    },
    "language_info": {
      "codemirror_mode": {
        "name": "ipython",
        "version": 3
      },
      "file_extension": ".py",
      "mimetype": "text/x-python",
      "name": "python",
      "nbconvert_exporter": "python",
      "pygments_lexer": "ipython3",
      "version": "3.7.3"
    },
    "colab": {
      "name": "Crop_Production_in_India.ipynb",
      "provenance": [],
      "collapsed_sections": []
    }
  },
  "cells": [
    {
      "cell_type": "code",
      "metadata": {
        "id": "u0PX6kzgcyeJ",
        "colab_type": "code",
        "colab": {
          "resources": {
            "http://localhost:8080/nbextensions/google.colab/files.js": {
              "data": "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",
              "ok": true,
              "headers": [
                [
                  "content-type",
                  "application/javascript"
                ]
              ],
              "status": 200,
              "status_text": ""
            }
          },
          "base_uri": "https://localhost:8080/",
          "height": 74
        },
        "outputId": "7f68d56a-6be3-4cab-c451-d4d0d286c254"
      },
      "source": [
        "from google.colab import files\n",
        "uploaded = files.upload()\n"
      ],
      "execution_count": null,
      "outputs": [
        {
          "output_type": "display_data",
          "data": {
            "text/html": [
              "\n",
              "     <input type=\"file\" id=\"files-bc78192b-a7d9-40d8-8c2a-f47d17ff1e30\" name=\"files[]\" multiple disabled />\n",
              "     <output id=\"result-bc78192b-a7d9-40d8-8c2a-f47d17ff1e30\">\n",
              "      Upload widget is only available when the cell has been executed in the\n",
              "      current browser session. Please rerun this cell to enable.\n",
              "      </output>\n",
              "      <script src=\"/nbextensions/google.colab/files.js\"></script> "
            ],
            "text/plain": [
              "<IPython.core.display.HTML object>"
            ]
          },
          "metadata": {
            "tags": []
          }
        },
        {
          "output_type": "stream",
          "text": [
            "Saving crop_production.csv to crop_production.csv\n"
          ],
          "name": "stdout"
        }
      ]
    },
    {
      "cell_type": "code",
      "metadata": {
        "id": "16bubBojdLMw",
        "colab_type": "code",
        "colab": {
          "base_uri": "https://localhost:8080/",
          "height": 71
        },
        "outputId": "2301f0aa-a390-4b0c-f809-6c76346a7645"
      },
      "source": [
        "import os\n",
        "import json\n",
        "import numpy as np\n",
        "import pandas as pd\n",
        "from pandas.io.json import json_normalize\n",
        "import matplotlib.pyplot as plt\n",
        "import seaborn as sns\n",
        "color = sns.color_palette()\n",
        "\n",
        "%matplotlib inline\n",
        "\n",
        "from plotly import tools\n",
        "import plotly.offline as py\n",
        "py.init_notebook_mode(connected=True)\n",
        "import plotly.graph_objs as go\n",
        "\n",
        "from sklearn import model_selection, preprocessing, metrics\n",
        "\n",
        "pd.options.mode.chained_assignment = None\n",
        "pd.options.display.max_columns = 999"
      ],
      "execution_count": null,
      "outputs": [
        {
          "output_type": "stream",
          "text": [
            "/usr/local/lib/python3.6/dist-packages/statsmodels/tools/_testing.py:19: FutureWarning: pandas.util.testing is deprecated. Use the functions in the public API at pandas.testing instead.\n",
            "  import pandas.util.testing as tm\n"
          ],
          "name": "stderr"
        },
        {
          "output_type": "display_data",
          "data": {
            "text/html": [
              "        <script type=\"text/javascript\">\n",
              "        window.PlotlyConfig = {MathJaxConfig: 'local'};\n",
              "        if (window.MathJax) {MathJax.Hub.Config({SVG: {font: \"STIX-Web\"}});}\n",
              "        if (typeof require !== 'undefined') {\n",
              "        require.undef(\"plotly\");\n",
              "        requirejs.config({\n",
              "            paths: {\n",
              "                'plotly': ['https://cdn.plot.ly/plotly-latest.min']\n",
              "            }\n",
              "        });\n",
              "        require(['plotly'], function(Plotly) {\n",
              "            window._Plotly = Plotly;\n",
              "        });\n",
              "        }\n",
              "        </script>\n",
              "        "
            ]
          },
          "metadata": {
            "tags": []
          }
        }
      ]
    },
    {
      "cell_type": "code",
      "metadata": {
        "id": "ClX7sOxqct5f",
        "colab_type": "code",
        "colab": {}
      },
      "source": [
        "import pandas as pd\n",
        "train_df=pd.read_csv('crop_production.csv')"
      ],
      "execution_count": null,
      "outputs": []
    },
    {
      "cell_type": "code",
      "metadata": {
        "id": "55BX4VGIbq_X",
        "colab_type": "code",
        "colab": {
          "base_uri": "https://localhost:8080/",
          "height": 153
        },
        "outputId": "3f141268-e0ae-4cde-87d1-34fae3241f90"
      },
      "source": [
        "train_df.dtypes"
      ],
      "execution_count": null,
      "outputs": [
        {
          "output_type": "execute_result",
          "data": {
            "text/plain": [
              "State_Name        object\n",
              "District_Name     object\n",
              "Crop_Year          int64\n",
              "Season            object\n",
              "Crop              object\n",
              "Area             float64\n",
              "Production       float64\n",
              "dtype: object"
            ]
          },
          "metadata": {
            "tags": []
          },
          "execution_count": 4
        }
      ]
    },
    {
      "cell_type": "code",
      "metadata": {
        "id": "BN2C1glXct5s",
        "colab_type": "code",
        "colab": {
          "base_uri": "https://localhost:8080/",
          "height": 204
        },
        "outputId": "c0c95d1e-7d5f-4901-ab30-3b4b46d3a22d"
      },
      "source": [
        "train_df.head()"
      ],
      "execution_count": null,
      "outputs": [
        {
          "output_type": "execute_result",
          "data": {
            "text/html": [
              "<div>\n",
              "<style scoped>\n",
              "    .dataframe tbody tr th:only-of-type {\n",
              "        vertical-align: middle;\n",
              "    }\n",
              "\n",
              "    .dataframe tbody tr th {\n",
              "        vertical-align: top;\n",
              "    }\n",
              "\n",
              "    .dataframe thead th {\n",
              "        text-align: right;\n",
              "    }\n",
              "</style>\n",
              "<table border=\"1\" class=\"dataframe\">\n",
              "  <thead>\n",
              "    <tr style=\"text-align: right;\">\n",
              "      <th></th>\n",
              "      <th>State_Name</th>\n",
              "      <th>District_Name</th>\n",
              "      <th>Crop_Year</th>\n",
              "      <th>Season</th>\n",
              "      <th>Crop</th>\n",
              "      <th>Area</th>\n",
              "      <th>Production</th>\n",
              "    </tr>\n",
              "  </thead>\n",
              "  <tbody>\n",
              "    <tr>\n",
              "      <th>0</th>\n",
              "      <td>Andaman and Nicobar Islands</td>\n",
              "      <td>NICOBARS</td>\n",
              "      <td>2000</td>\n",
              "      <td>Kharif</td>\n",
              "      <td>Arecanut</td>\n",
              "      <td>1254.0</td>\n",
              "      <td>2000.0</td>\n",
              "    </tr>\n",
              "    <tr>\n",
              "      <th>1</th>\n",
              "      <td>Andaman and Nicobar Islands</td>\n",
              "      <td>NICOBARS</td>\n",
              "      <td>2000</td>\n",
              "      <td>Kharif</td>\n",
              "      <td>Other Kharif pulses</td>\n",
              "      <td>2.0</td>\n",
              "      <td>1.0</td>\n",
              "    </tr>\n",
              "    <tr>\n",
              "      <th>2</th>\n",
              "      <td>Andaman and Nicobar Islands</td>\n",
              "      <td>NICOBARS</td>\n",
              "      <td>2000</td>\n",
              "      <td>Kharif</td>\n",
              "      <td>Rice</td>\n",
              "      <td>102.0</td>\n",
              "      <td>321.0</td>\n",
              "    </tr>\n",
              "    <tr>\n",
              "      <th>3</th>\n",
              "      <td>Andaman and Nicobar Islands</td>\n",
              "      <td>NICOBARS</td>\n",
              "      <td>2000</td>\n",
              "      <td>Whole Year</td>\n",
              "      <td>Banana</td>\n",
              "      <td>176.0</td>\n",
              "      <td>641.0</td>\n",
              "    </tr>\n",
              "    <tr>\n",
              "      <th>4</th>\n",
              "      <td>Andaman and Nicobar Islands</td>\n",
              "      <td>NICOBARS</td>\n",
              "      <td>2000</td>\n",
              "      <td>Whole Year</td>\n",
              "      <td>Cashewnut</td>\n",
              "      <td>720.0</td>\n",
              "      <td>165.0</td>\n",
              "    </tr>\n",
              "  </tbody>\n",
              "</table>\n",
              "</div>"
            ],
            "text/plain": [
              "                    State_Name District_Name  Crop_Year       Season  \\\n",
              "0  Andaman and Nicobar Islands      NICOBARS       2000  Kharif        \n",
              "1  Andaman and Nicobar Islands      NICOBARS       2000  Kharif        \n",
              "2  Andaman and Nicobar Islands      NICOBARS       2000  Kharif        \n",
              "3  Andaman and Nicobar Islands      NICOBARS       2000  Whole Year    \n",
              "4  Andaman and Nicobar Islands      NICOBARS       2000  Whole Year    \n",
              "\n",
              "                  Crop    Area  Production  \n",
              "0             Arecanut  1254.0      2000.0  \n",
              "1  Other Kharif pulses     2.0         1.0  \n",
              "2                 Rice   102.0       321.0  \n",
              "3               Banana   176.0       641.0  \n",
              "4            Cashewnut   720.0       165.0  "
            ]
          },
          "metadata": {
            "tags": []
          },
          "execution_count": 5
        }
      ]
    },
    {
      "cell_type": "code",
      "metadata": {
        "id": "yfPqWK1Z_xjX",
        "colab_type": "code",
        "colab": {
          "base_uri": "https://localhost:8080/",
          "height": 297
        },
        "outputId": "f1f46a69-0bde-4d1f-ec78-8cf08a0f05bd"
      },
      "source": [
        "train_df.describe()"
      ],
      "execution_count": null,
      "outputs": [
        {
          "output_type": "execute_result",
          "data": {
            "text/html": [
              "<div>\n",
              "<style scoped>\n",
              "    .dataframe tbody tr th:only-of-type {\n",
              "        vertical-align: middle;\n",
              "    }\n",
              "\n",
              "    .dataframe tbody tr th {\n",
              "        vertical-align: top;\n",
              "    }\n",
              "\n",
              "    .dataframe thead th {\n",
              "        text-align: right;\n",
              "    }\n",
              "</style>\n",
              "<table border=\"1\" class=\"dataframe\">\n",
              "  <thead>\n",
              "    <tr style=\"text-align: right;\">\n",
              "      <th></th>\n",
              "      <th>Crop_Year</th>\n",
              "      <th>Area</th>\n",
              "      <th>Production</th>\n",
              "    </tr>\n",
              "  </thead>\n",
              "  <tbody>\n",
              "    <tr>\n",
              "      <th>count</th>\n",
              "      <td>246091.000000</td>\n",
              "      <td>2.460910e+05</td>\n",
              "      <td>2.423610e+05</td>\n",
              "    </tr>\n",
              "    <tr>\n",
              "      <th>mean</th>\n",
              "      <td>2005.643018</td>\n",
              "      <td>1.200282e+04</td>\n",
              "      <td>5.825034e+05</td>\n",
              "    </tr>\n",
              "    <tr>\n",
              "      <th>std</th>\n",
              "      <td>4.952164</td>\n",
              "      <td>5.052340e+04</td>\n",
              "      <td>1.706581e+07</td>\n",
              "    </tr>\n",
              "    <tr>\n",
              "      <th>min</th>\n",
              "      <td>1997.000000</td>\n",
              "      <td>4.000000e-02</td>\n",
              "      <td>0.000000e+00</td>\n",
              "    </tr>\n",
              "    <tr>\n",
              "      <th>25%</th>\n",
              "      <td>2002.000000</td>\n",
              "      <td>8.000000e+01</td>\n",
              "      <td>8.800000e+01</td>\n",
              "    </tr>\n",
              "    <tr>\n",
              "      <th>50%</th>\n",
              "      <td>2006.000000</td>\n",
              "      <td>5.820000e+02</td>\n",
              "      <td>7.290000e+02</td>\n",
              "    </tr>\n",
              "    <tr>\n",
              "      <th>75%</th>\n",
              "      <td>2010.000000</td>\n",
              "      <td>4.392000e+03</td>\n",
              "      <td>7.023000e+03</td>\n",
              "    </tr>\n",
              "    <tr>\n",
              "      <th>max</th>\n",
              "      <td>2015.000000</td>\n",
              "      <td>8.580100e+06</td>\n",
              "      <td>1.250800e+09</td>\n",
              "    </tr>\n",
              "  </tbody>\n",
              "</table>\n",
              "</div>"
            ],
            "text/plain": [
              "           Crop_Year          Area    Production\n",
              "count  246091.000000  2.460910e+05  2.423610e+05\n",
              "mean     2005.643018  1.200282e+04  5.825034e+05\n",
              "std         4.952164  5.052340e+04  1.706581e+07\n",
              "min      1997.000000  4.000000e-02  0.000000e+00\n",
              "25%      2002.000000  8.000000e+01  8.800000e+01\n",
              "50%      2006.000000  5.820000e+02  7.290000e+02\n",
              "75%      2010.000000  4.392000e+03  7.023000e+03\n",
              "max      2015.000000  8.580100e+06  1.250800e+09"
            ]
          },
          "metadata": {
            "tags": []
          },
          "execution_count": 6
        }
      ]
    },
    {
      "cell_type": "code",
      "metadata": {
        "id": "1QHSB9RU3LZM",
        "colab_type": "code",
        "colab": {
          "base_uri": "https://localhost:8080/",
          "height": 153
        },
        "outputId": "5c223b0e-ba26-43a0-990a-02f48b87bd6a"
      },
      "source": [
        "# Null value in database\n",
        "train_df.isnull().any()"
      ],
      "execution_count": null,
      "outputs": [
        {
          "output_type": "execute_result",
          "data": {
            "text/plain": [
              "State_Name       False\n",
              "District_Name    False\n",
              "Crop_Year        False\n",
              "Season           False\n",
              "Crop             False\n",
              "Area             False\n",
              "Production       False\n",
              "dtype: bool"
            ]
          },
          "metadata": {
            "tags": []
          },
          "execution_count": 32
        }
      ]
    },
    {
      "cell_type": "code",
      "metadata": {
        "id": "8LFEGGuwike9",
        "colab_type": "code",
        "colab": {
          "base_uri": "https://localhost:8080/",
          "height": 34
        },
        "outputId": "5e9420e5-8765-44d9-bdd2-e3a9fbf9decc"
      },
      "source": [
        "train_df['Production'].fillna(\"0\",inplace=True)\n",
        "train_df.Production.isnull().any()"
      ],
      "execution_count": null,
      "outputs": [
        {
          "output_type": "execute_result",
          "data": {
            "text/plain": [
              "False"
            ]
          },
          "metadata": {
            "tags": []
          },
          "execution_count": 30
        }
      ]
    },
    {
      "cell_type": "code",
      "metadata": {
        "id": "ERuvZ2BZ2xEU",
        "colab_type": "code",
        "colab": {
          "base_uri": "https://localhost:8080/",
          "height": 1000
        },
        "outputId": "24aabdd3-9689-49bf-dd5b-9247aeec59e1"
      },
      "source": [
        "#Unique value in database\n",
        "for col in train_df.columns:\n",
        "  print(train_df[col].unique())\n",
        "  print('='*100)"
      ],
      "execution_count": null,
      "outputs": [
        {
          "output_type": "stream",
          "text": [
            "['Andaman and Nicobar Islands' 'Andhra Pradesh' 'Arunachal Pradesh'\n",
            " 'Assam' 'Bihar' 'Chandigarh' 'Chhattisgarh' 'Dadra and Nagar Haveli'\n",
            " 'Goa' 'Gujarat' 'Haryana' 'Himachal Pradesh' 'Jammu and Kashmir '\n",
            " 'Jharkhand' 'Karnataka' 'Kerala' 'Madhya Pradesh' 'Maharashtra' 'Manipur'\n",
            " 'Meghalaya' 'Mizoram' 'Nagaland' 'Odisha' 'Puducherry' 'Punjab'\n",
            " 'Rajasthan' 'Sikkim' 'Tamil Nadu' 'Telangana ' 'Tripura' 'Uttar Pradesh'\n",
            " 'Uttarakhand' 'West Bengal']\n",
            "====================================================================================================\n",
            "['NICOBARS' 'NORTH AND MIDDLE ANDAMAN' 'SOUTH ANDAMANS' 'ANANTAPUR'\n",
            " 'CHITTOOR' 'EAST GODAVARI' 'GUNTUR' 'KADAPA' 'KRISHNA' 'KURNOOL'\n",
            " 'PRAKASAM' 'SPSR NELLORE' 'SRIKAKULAM' 'VISAKHAPATANAM' 'VIZIANAGARAM'\n",
            " 'WEST GODAVARI' 'ANJAW' 'CHANGLANG' 'DIBANG VALLEY' 'EAST KAMENG'\n",
            " 'EAST SIANG' 'KURUNG KUMEY' 'LOHIT' 'LONGDING' 'LOWER DIBANG VALLEY'\n",
            " 'LOWER SUBANSIRI' 'NAMSAI' 'PAPUM PARE' 'TAWANG' 'TIRAP' 'UPPER SIANG'\n",
            " 'UPPER SUBANSIRI' 'WEST KAMENG' 'WEST SIANG' 'BAKSA' 'BARPETA'\n",
            " 'BONGAIGAON' 'CACHAR' 'CHIRANG' 'DARRANG' 'DHEMAJI' 'DHUBRI' 'DIBRUGARH'\n",
            " 'DIMA HASAO' 'GOALPARA' 'GOLAGHAT' 'HAILAKANDI' 'JORHAT' 'KAMRUP'\n",
            " 'KAMRUP METRO' 'KARBI ANGLONG' 'KARIMGANJ' 'KOKRAJHAR' 'LAKHIMPUR'\n",
            " 'MARIGAON' 'NAGAON' 'NALBARI' 'SIVASAGAR' 'SONITPUR' 'TINSUKIA'\n",
            " 'UDALGURI' 'ARARIA' 'ARWAL' 'AURANGABAD' 'BANKA' 'BEGUSARAI' 'BHAGALPUR'\n",
            " 'BHOJPUR' 'BUXAR' 'DARBHANGA' 'GAYA' 'GOPALGANJ' 'JAMUI' 'JEHANABAD'\n",
            " 'KAIMUR (BHABUA)' 'KATIHAR' 'KHAGARIA' 'KISHANGANJ' 'LAKHISARAI'\n",
            " 'MADHEPURA' 'MADHUBANI' 'MUNGER' 'MUZAFFARPUR' 'NALANDA' 'NAWADA'\n",
            " 'PASHCHIM CHAMPARAN' 'PATNA' 'PURBI CHAMPARAN' 'PURNIA' 'ROHTAS'\n",
            " 'SAHARSA' 'SAMASTIPUR' 'SARAN' 'SHEIKHPURA' 'SHEOHAR' 'SITAMARHI' 'SIWAN'\n",
            " 'SUPAUL' 'VAISHALI' 'CHANDIGARH' 'BALOD' 'BALODA BAZAR' 'BALRAMPUR'\n",
            " 'BASTAR' 'BEMETARA' 'BIJAPUR' 'BILASPUR' 'DANTEWADA' 'DHAMTARI' 'DURG'\n",
            " 'GARIYABAND' 'JANJGIR-CHAMPA' 'JASHPUR' 'KABIRDHAM' 'KANKER' 'KONDAGAON'\n",
            " 'KORBA' 'KOREA' 'MAHASAMUND' 'MUNGELI' 'NARAYANPUR' 'RAIGARH' 'RAIPUR'\n",
            " 'RAJNANDGAON' 'SUKMA' 'SURAJPUR' 'SURGUJA' 'DADRA AND NAGAR HAVELI'\n",
            " 'NORTH GOA' 'SOUTH GOA' 'AHMADABAD' 'AMRELI' 'ANAND' 'BANAS KANTHA'\n",
            " 'BHARUCH' 'BHAVNAGAR' 'DANG' 'DOHAD' 'GANDHINAGAR' 'JAMNAGAR' 'JUNAGADH'\n",
            " 'KACHCHH' 'KHEDA' 'MAHESANA' 'NARMADA' 'NAVSARI' 'PANCH MAHALS' 'PATAN'\n",
            " 'PORBANDAR' 'RAJKOT' 'SABAR KANTHA' 'SURAT' 'SURENDRANAGAR' 'TAPI'\n",
            " 'VADODARA' 'VALSAD' 'AMBALA' 'BHIWANI' 'FARIDABAD' 'FATEHABAD' 'GURGAON'\n",
            " 'HISAR' 'JHAJJAR' 'JIND' 'KAITHAL' 'KARNAL' 'KURUKSHETRA' 'MAHENDRAGARH'\n",
            " 'MEWAT' 'PALWAL' 'PANCHKULA' 'PANIPAT' 'REWARI' 'ROHTAK' 'SIRSA'\n",
            " 'SONIPAT' 'YAMUNANAGAR' 'CHAMBA' 'HAMIRPUR' 'KANGRA' 'KINNAUR' 'KULLU'\n",
            " 'LAHUL AND SPITI' 'MANDI' 'SHIMLA' 'SIRMAUR' 'SOLAN' 'UNA' 'ANANTNAG'\n",
            " 'BADGAM' 'BANDIPORA' 'BARAMULLA' 'DODA' 'GANDERBAL' 'JAMMU' 'KARGIL'\n",
            " 'KATHUA' 'KISHTWAR' 'KULGAM' 'KUPWARA' 'LEH LADAKH' 'POONCH' 'PULWAMA'\n",
            " 'RAJAURI' 'RAMBAN' 'REASI' 'SAMBA' 'SHOPIAN' 'SRINAGAR' 'UDHAMPUR'\n",
            " 'BOKARO' 'CHATRA' 'DEOGHAR' 'DHANBAD' 'DUMKA' 'EAST SINGHBUM' 'GARHWA'\n",
            " 'GIRIDIH' 'GODDA' 'GUMLA' 'HAZARIBAGH' 'JAMTARA' 'KHUNTI' 'KODERMA'\n",
            " 'LATEHAR' 'LOHARDAGA' 'PAKUR' 'PALAMU' 'RAMGARH' 'RANCHI' 'SAHEBGANJ'\n",
            " 'SARAIKELA KHARSAWAN' 'SIMDEGA' 'WEST SINGHBHUM' 'BAGALKOT'\n",
            " 'BANGALORE RURAL' 'BELGAUM' 'BELLARY' 'BENGALURU URBAN' 'BIDAR'\n",
            " 'CHAMARAJANAGAR' 'CHIKBALLAPUR' 'CHIKMAGALUR' 'CHITRADURGA'\n",
            " 'DAKSHIN KANNAD' 'DAVANGERE' 'DHARWAD' 'GADAG' 'GULBARGA' 'HASSAN'\n",
            " 'HAVERI' 'KODAGU' 'KOLAR' 'KOPPAL' 'MANDYA' 'MYSORE' 'RAICHUR'\n",
            " 'RAMANAGARA' 'SHIMOGA' 'TUMKUR' 'UDUPI' 'UTTAR KANNAD' 'YADGIR'\n",
            " 'ALAPPUZHA' 'ERNAKULAM' 'IDUKKI' 'KANNUR' 'KASARAGOD' 'KOLLAM' 'KOTTAYAM'\n",
            " 'KOZHIKODE' 'MALAPPURAM' 'PALAKKAD' 'PATHANAMTHITTA' 'THIRUVANANTHAPURAM'\n",
            " 'THRISSUR' 'WAYANAD' 'AGAR MALWA' 'ALIRAJPUR' 'ANUPPUR' 'ASHOKNAGAR'\n",
            " 'BALAGHAT' 'BARWANI' 'BETUL' 'BHIND' 'BHOPAL' 'BURHANPUR' 'CHHATARPUR'\n",
            " 'CHHINDWARA' 'DAMOH' 'DATIA' 'DEWAS' 'DHAR' 'DINDORI' 'GUNA' 'GWALIOR'\n",
            " 'HARDA' 'HOSHANGABAD' 'INDORE' 'JABALPUR' 'JHABUA' 'KATNI' 'KHANDWA'\n",
            " 'KHARGONE' 'MANDLA' 'MANDSAUR' 'MORENA' 'NARSINGHPUR' 'NEEMUCH' 'PANNA'\n",
            " 'RAISEN' 'RAJGARH' 'RATLAM' 'REWA' 'SAGAR' 'SATNA' 'SEHORE' 'SEONI'\n",
            " 'SHAHDOL' 'SHAJAPUR' 'SHEOPUR' 'SHIVPURI' 'SIDHI' 'SINGRAULI' 'TIKAMGARH'\n",
            " 'UJJAIN' 'UMARIA' 'VIDISHA' 'AHMEDNAGAR' 'AKOLA' 'AMRAVATI' 'BEED'\n",
            " 'BHANDARA' 'BULDHANA' 'CHANDRAPUR' 'DHULE' 'GADCHIROLI' 'GONDIA'\n",
            " 'HINGOLI' 'JALGAON' 'JALNA' 'KOLHAPUR' 'LATUR' 'MUMBAI' 'NAGPUR' 'NANDED'\n",
            " 'NANDURBAR' 'NASHIK' 'OSMANABAD' 'PALGHAR' 'PARBHANI' 'PUNE' 'RAIGAD'\n",
            " 'RATNAGIRI' 'SANGLI' 'SATARA' 'SINDHUDURG' 'SOLAPUR' 'THANE' 'WARDHA'\n",
            " 'WASHIM' 'YAVATMAL' 'BISHNUPUR' 'CHANDEL' 'CHURACHANDPUR' 'IMPHAL EAST'\n",
            " 'IMPHAL WEST' 'SENAPATI' 'TAMENGLONG' 'THOUBAL' 'UKHRUL'\n",
            " 'EAST GARO HILLS' 'EAST JAINTIA HILLS' 'EAST KHASI HILLS'\n",
            " 'NORTH GARO HILLS' 'RI BHOI' 'SOUTH GARO HILLS' 'SOUTH WEST GARO HILLS'\n",
            " 'SOUTH WEST KHASI HILLS' 'WEST GARO HILLS' 'WEST JAINTIA HILLS'\n",
            " 'WEST KHASI HILLS' 'AIZAWL' 'CHAMPHAI' 'KOLASIB' 'LAWNGTLAI' 'LUNGLEI'\n",
            " 'MAMIT' 'SAIHA' 'SERCHHIP' 'DIMAPUR' 'KIPHIRE' 'KOHIMA' 'LONGLENG'\n",
            " 'MOKOKCHUNG' 'MON' 'PEREN' 'PHEK' 'TUENSANG' 'WOKHA' 'ZUNHEBOTO' 'ANUGUL'\n",
            " 'BALANGIR' 'BALESHWAR' 'BARGARH' 'BHADRAK' 'BOUDH' 'CUTTACK' 'DEOGARH'\n",
            " 'DHENKANAL' 'GAJAPATI' 'GANJAM' 'JAGATSINGHAPUR' 'JAJAPUR' 'JHARSUGUDA'\n",
            " 'KALAHANDI' 'KANDHAMAL' 'KENDRAPARA' 'KENDUJHAR' 'KHORDHA' 'KORAPUT'\n",
            " 'MALKANGIRI' 'MAYURBHANJ' 'NABARANGPUR' 'NAYAGARH' 'NUAPADA' 'PURI'\n",
            " 'RAYAGADA' 'SAMBALPUR' 'SONEPUR' 'SUNDARGARH' 'KARAIKAL' 'MAHE'\n",
            " 'PONDICHERRY' 'YANAM' 'AMRITSAR' 'BARNALA' 'BATHINDA' 'FARIDKOT'\n",
            " 'FATEHGARH SAHIB' 'FAZILKA' 'FIROZEPUR' 'GURDASPUR' 'HOSHIARPUR'\n",
            " 'JALANDHAR' 'KAPURTHALA' 'LUDHIANA' 'MANSA' 'MOGA' 'MUKTSAR' 'NAWANSHAHR'\n",
            " 'PATHANKOT' 'PATIALA' 'RUPNAGAR' 'S.A.S NAGAR' 'SANGRUR' 'TARN TARAN'\n",
            " 'AJMER' 'ALWAR' 'BANSWARA' 'BARAN' 'BARMER' 'BHARATPUR' 'BHILWARA'\n",
            " 'BIKANER' 'BUNDI' 'CHITTORGARH' 'CHURU' 'DAUSA' 'DHOLPUR' 'DUNGARPUR'\n",
            " 'GANGANAGAR' 'HANUMANGARH' 'JAIPUR' 'JAISALMER' 'JALORE' 'JHALAWAR'\n",
            " 'JHUNJHUNU' 'JODHPUR' 'KARAULI' 'KOTA' 'NAGAUR' 'PALI' 'PRATAPGARH'\n",
            " 'RAJSAMAND' 'SAWAI MADHOPUR' 'SIKAR' 'SIROHI' 'TONK' 'UDAIPUR'\n",
            " 'EAST DISTRICT' 'NORTH DISTRICT' 'SOUTH DISTRICT' 'WEST DISTRICT'\n",
            " 'ARIYALUR' 'COIMBATORE' 'CUDDALORE' 'DHARMAPURI' 'DINDIGUL' 'ERODE'\n",
            " 'KANCHIPURAM' 'KANNIYAKUMARI' 'KARUR' 'KRISHNAGIRI' 'MADURAI'\n",
            " 'NAGAPATTINAM' 'NAMAKKAL' 'PERAMBALUR' 'PUDUKKOTTAI' 'RAMANATHAPURAM'\n",
            " 'SALEM' 'SIVAGANGA' 'THANJAVUR' 'THE NILGIRIS' 'THENI' 'THIRUVALLUR'\n",
            " 'THIRUVARUR' 'TIRUCHIRAPPALLI' 'TIRUNELVELI' 'TIRUPPUR' 'TIRUVANNAMALAI'\n",
            " 'TUTICORIN' 'VELLORE' 'VILLUPURAM' 'VIRUDHUNAGAR' 'ADILABAD' 'HYDERABAD'\n",
            " 'KARIMNAGAR' 'KHAMMAM' 'MAHBUBNAGAR' 'MEDAK' 'NALGONDA' 'NIZAMABAD'\n",
            " 'RANGAREDDI' 'WARANGAL' 'DHALAI' 'GOMATI' 'KHOWAI' 'NORTH TRIPURA'\n",
            " 'SEPAHIJALA' 'SOUTH TRIPURA' 'UNAKOTI' 'WEST TRIPURA' 'AGRA' 'ALIGARH'\n",
            " 'ALLAHABAD' 'AMBEDKAR NAGAR' 'AMETHI' 'AMROHA' 'AURAIYA' 'AZAMGARH'\n",
            " 'BAGHPAT' 'BAHRAICH' 'BALLIA' 'BANDA' 'BARABANKI' 'BAREILLY' 'BASTI'\n",
            " 'BIJNOR' 'BUDAUN' 'BULANDSHAHR' 'CHANDAULI' 'CHITRAKOOT' 'DEORIA' 'ETAH'\n",
            " 'ETAWAH' 'FAIZABAD' 'FARRUKHABAD' 'FATEHPUR' 'FIROZABAD'\n",
            " 'GAUTAM BUDDHA NAGAR' 'GHAZIABAD' 'GHAZIPUR' 'GONDA' 'GORAKHPUR' 'HAPUR'\n",
            " 'HARDOI' 'HATHRAS' 'JALAUN' 'JAUNPUR' 'JHANSI' 'KANNAUJ' 'KANPUR DEHAT'\n",
            " 'KANPUR NAGAR' 'KASGANJ' 'KAUSHAMBI' 'KHERI' 'KUSHI NAGAR' 'LALITPUR'\n",
            " 'LUCKNOW' 'MAHARAJGANJ' 'MAHOBA' 'MAINPURI' 'MATHURA' 'MAU' 'MEERUT'\n",
            " 'MIRZAPUR' 'MORADABAD' 'MUZAFFARNAGAR' 'PILIBHIT' 'RAE BARELI' 'RAMPUR'\n",
            " 'SAHARANPUR' 'SAMBHAL' 'SANT KABEER NAGAR' 'SANT RAVIDAS NAGAR'\n",
            " 'SHAHJAHANPUR' 'SHAMLI' 'SHRAVASTI' 'SIDDHARTH NAGAR' 'SITAPUR'\n",
            " 'SONBHADRA' 'SULTANPUR' 'UNNAO' 'VARANASI' 'ALMORA' 'BAGESHWAR' 'CHAMOLI'\n",
            " 'CHAMPAWAT' 'DEHRADUN' 'HARIDWAR' 'NAINITAL' 'PAURI GARHWAL'\n",
            " 'PITHORAGARH' 'RUDRA PRAYAG' 'TEHRI GARHWAL' 'UDAM SINGH NAGAR'\n",
            " 'UTTAR KASHI' '24 PARAGANAS NORTH' '24 PARAGANAS SOUTH' 'BANKURA'\n",
            " 'BARDHAMAN' 'BIRBHUM' 'COOCHBEHAR' 'DARJEELING' 'DINAJPUR DAKSHIN'\n",
            " 'DINAJPUR UTTAR' 'HOOGHLY' 'HOWRAH' 'JALPAIGURI' 'MALDAH'\n",
            " 'MEDINIPUR EAST' 'MEDINIPUR WEST' 'MURSHIDABAD' 'NADIA' 'PURULIA']\n",
            "====================================================================================================\n",
            "[2000 2001 2002 2003 2004 2005 2006 2010 1997 1998 1999 2007 2008 2009\n",
            " 2011 2012 2013 2014 2015]\n",
            "====================================================================================================\n",
            "['Kharif     ' 'Whole Year ' 'Autumn     ' 'Rabi       ' 'Summer     '\n",
            " 'Winter     ']\n",
            "====================================================================================================\n",
            "['Arecanut' 'Other Kharif pulses' 'Rice' 'Banana' 'Cashewnut' 'Coconut '\n",
            " 'Dry ginger' 'Sugarcane' 'Sweet potato' 'Tapioca' 'Black pepper'\n",
            " 'Dry chillies' 'other oilseeds' 'Turmeric' 'Maize' 'Moong(Green Gram)'\n",
            " 'Urad' 'Arhar/Tur' 'Groundnut' 'Sunflower' 'Bajra' 'Castor seed'\n",
            " 'Cotton(lint)' 'Horse-gram' 'Jowar' 'Korra' 'Ragi' 'Tobacco' 'Gram'\n",
            " 'Wheat' 'Masoor' 'Sesamum' 'Linseed' 'Safflower' 'Onion'\n",
            " 'other misc. pulses' 'Samai' 'Small millets' 'Coriander' 'Potato'\n",
            " 'Other  Rabi pulses' 'Soyabean' 'Beans & Mutter(Vegetable)' 'Bhindi'\n",
            " 'Brinjal' 'Citrus Fruit' 'Cucumber' 'Grapes' 'Mango' 'Orange'\n",
            " 'other fibres' 'Other Fresh Fruits' 'Other Vegetables' 'Papaya'\n",
            " 'Pome Fruit' 'Tomato' 'Rapeseed &Mustard' 'Mesta' 'Cowpea(Lobia)' 'Lemon'\n",
            " 'Pome Granet' 'Sapota' 'Cabbage' 'Peas  (vegetable)' 'Niger seed'\n",
            " 'Bottle Gourd' 'Sannhamp' 'Varagu' 'Garlic' 'Ginger' 'Oilseeds total'\n",
            " 'Pulses total' 'Jute' 'Peas & beans (Pulses)' 'Blackgram' 'Paddy'\n",
            " 'Pineapple' 'Barley' 'Khesari' 'Guar seed' 'Moth'\n",
            " 'Other Cereals & Millets' 'Cond-spcs other' 'Turnip' 'Carrot' 'Redish'\n",
            " 'Arcanut (Processed)' 'Atcanut (Raw)' 'Cashewnut Processed'\n",
            " 'Cashewnut Raw' 'Cardamom' 'Rubber' 'Bitter Gourd' 'Drum Stick'\n",
            " 'Jack Fruit' 'Snak Guard' 'Pump Kin' 'Tea' 'Coffee' 'Cauliflower'\n",
            " 'Other Citrus Fruit' 'Water Melon' 'Total foodgrain' 'Kapas' 'Colocosia'\n",
            " 'Lentil' 'Bean' 'Jobster' 'Perilla' 'Rajmash Kholar' 'Ricebean (nagadal)'\n",
            " 'Ash Gourd' 'Beet Root' 'Lab-Lab' 'Ribed Guard' 'Yam' 'Apple' 'Peach'\n",
            " 'Pear' 'Plums' 'Litchi' 'Ber' 'Other Dry Fruit' 'Jute & mesta']\n",
            "====================================================================================================\n",
            "[1.25400e+03 2.00000e+00 1.02000e+02 ... 3.02274e+05 1.14930e+04\n",
            " 2.79151e+05]\n",
            "====================================================================================================\n",
            "[2000.0 1.0 321.0 ... 729553.0 730136.0 597899.0]\n",
            "====================================================================================================\n"
          ],
          "name": "stdout"
        }
      ]
    },
    {
      "cell_type": "code",
      "metadata": {
        "id": "2RVX8W8Xcgum",
        "colab_type": "code",
        "colab": {}
      },
      "source": [
        "#Replace the value\n",
        "train_df['Production'].value_counts()\n",
        "train_df['Production']=train_df['Production'].replace('=','0')"
      ],
      "execution_count": null,
      "outputs": []
    },
    {
      "cell_type": "code",
      "metadata": {
        "id": "nGXsC3f1ct5_",
        "colab_type": "code",
        "colab": {
          "base_uri": "https://localhost:8080/",
          "height": 136
        },
        "outputId": "7c9d0fab-e8c2-45eb-8d54-c751a5d90261"
      },
      "source": [
        "#Missing values in dataset\n",
        "for col in train_df.columns:\n",
        "    nullrow=train_df[col].isnull().sum()\n",
        "    notrow=train_df[col].notnull().sum()\n",
        "    percentage=(nullrow*100)/(nullrow+notrow)\n",
        "    print(\"Column is \",col,percentage,\"% Missing Values\")\n",
        "    "
      ],
      "execution_count": null,
      "outputs": [
        {
          "output_type": "stream",
          "text": [
            "Column is  State_Name 0.0 % Missing Values\n",
            "Column is  District_Name 0.0 % Missing Values\n",
            "Column is  Crop_Year 0.0 % Missing Values\n",
            "Column is  Season 0.0 % Missing Values\n",
            "Column is  Crop 0.0 % Missing Values\n",
            "Column is  Area 0.0 % Missing Values\n",
            "Column is  Production 1.5156994770227274 % Missing Values\n"
          ],
          "name": "stdout"
        }
      ]
    },
    {
      "cell_type": "code",
      "metadata": {
        "colab_type": "code",
        "id": "TSJigRk0FAyU",
        "colab": {
          "base_uri": "https://localhost:8080/",
          "height": 34
        },
        "outputId": "de19ec9f-b4a5-42fc-aeed-a745f590d46f"
      },
      "source": [
        "col=train_df.columns[:6]\n",
        "col\n"
      ],
      "execution_count": null,
      "outputs": [
        {
          "output_type": "execute_result",
          "data": {
            "text/plain": [
              "Index(['State_Name', 'District_Name', 'Crop_Year', 'Season', 'Crop', 'Area'], dtype='object')"
            ]
          },
          "metadata": {
            "tags": []
          },
          "execution_count": 12
        }
      ]
    },
    {
      "cell_type": "code",
      "metadata": {
        "id": "y_TukXmidcqC",
        "colab_type": "code",
        "colab": {
          "base_uri": "https://localhost:8080/",
          "height": 1000
        },
        "outputId": "1381400f-0d0c-4f5c-c54d-5149c26d808d"
      },
      "source": [
        "# State Name and Production\n",
        "train_df[\"Production\"] = train_df[\"Production\"].astype('float')\n",
        "\n",
        "for col in train_df.columns[:6]:\n",
        "  plt.figure(figsize=(13,6)) #figure size\n",
        "  #It's another way to plot our data. using a variable that contains the plot parameters\n",
        "  g1 = sns.barplot(x=col, y='Production',data=train_df[(train_df[col].isin((train_df[col].value_counts()[:10].index.values))) & train_df['Production'] > 0])\n",
        "  g1.set_title(col+'And Production', fontsize=20) # title and fontsize\n",
        "  g1.set_xticklabels(g1.get_xticklabels(),rotation=45) # It's the way to rotate the xticks when we use variable to our graphs\n",
        "  g1.set_xlabel(col, fontsize=18) # Xlabel\n",
        "  g1.set_ylabel('Production(log) Dist', fontsize=18) #Ylabel\n",
        "  plt.show()"
      ],
      "execution_count": null,
      "outputs": [
        {
          "output_type": "display_data",
          "data": {
            "image/png": "[encoded data removed]",
            "text/plain": [
              "<Figure size 936x432 with 1 Axes>"
            ]
          },
          "metadata": {
            "tags": [],
            "needs_background": "light"
          }
        },
        {
          "output_type": "display_data",
          "data": {
            "image/png": "[encoded data removed]",
            "text/plain": [
              "<Figure size 936x432 with 1 Axes>"
            ]
          },
          "metadata": {
            "tags": [],
            "needs_background": "light"
          }
        },
        {
          "output_type": "display_data",
          "data": {
            "image/png": "[encoded data removed]",
            "text/plain": [
              "<Figure size 936x432 with 1 Axes>"
            ]
          },
          "metadata": {
            "tags": [],
            "needs_background": "light"
          }
        },
        {
          "output_type": "display_data",
          "data": {
            "image/png": "[encoded data removed]",
            "text/plain": [
              "<Figure size 936x432 with 1 Axes>"
            ]
          },
          "metadata": {
            "tags": [],
            "needs_background": "light"
          }
        },
        {
          "output_type": "display_data",
          "data": {
            "image/png": "[encoded data removed]",
            "text/plain": [
              "<Figure size 936x432 with 1 Axes>"
            ]
          },
          "metadata": {
            "tags": [],
            "needs_background": "light"
          }
        },
        {
          "output_type": "display_data",
          "data": {
            "image/png": "[encoded data removed]",
            "text/plain": [
              "<Figure size 936x432 with 1 Axes>"
            ]
          },
          "metadata": {
            "tags": [],
            "needs_background": "light"
          }
        }
      ]
    },
    {
      "cell_type": "markdown",
      "metadata": {
        "id": "seqECKKyFXnY",
        "colab_type": "text"
      },
      "source": [
        "##Split the data"
      ]
    },
    {
      "cell_type": "code",
      "metadata": {
        "id": "RRN5CZEGh2d6",
        "colab_type": "code",
        "colab": {}
      },
      "source": [
        "import pandas as pd\n",
        "from sklearn import datasets, linear_model\n",
        "from sklearn.model_selection import train_test_split\n",
        "from matplotlib import pyplot as plt"
      ],
      "execution_count": null,
      "outputs": []
    },
    {
      "cell_type": "code",
      "metadata": {
        "id": "zj_j9xKnidYg",
        "colab_type": "code",
        "colab": {
          "base_uri": "https://localhost:8080/",
          "height": 51
        },
        "outputId": "d34d8c97-5530-46fd-81ba-762d6df7dea6"
      },
      "source": [
        "train_df[\"Production\"] = train_df[\"Production\"].astype('float')\n",
        "\n",
        "y=train_df['Production']\n",
        "X_train, X_test, y_train, y_test = train_test_split(train_df, y, test_size=0.3)\n",
        "print(X_train.shape, y_train.shape)\n",
        "print(X_test.shape, y_test.shape)\n"
      ],
      "execution_count": null,
      "outputs": [
        {
          "output_type": "stream",
          "text": [
            "(172263, 7) (172263,)\n",
            "(73828, 7) (73828,)\n"
          ],
          "name": "stdout"
        }
      ]
    },
    {
      "cell_type": "code",
      "metadata": {
        "id": "zrMaoBgpi7oI",
        "colab_type": "code",
        "colab": {
          "base_uri": "https://localhost:8080/",
          "height": 34
        },
        "outputId": "721b5c74-18f8-4ac4-b635-a0d2db2c19d4"
      },
      "source": [
        "X_train.drop(['Production'], axis=1,inplace=True)\n",
        "X_test.drop(['Production'],axis=1,inplace=True)\n",
        "X_test.shape"
      ],
      "execution_count": null,
      "outputs": [
        {
          "output_type": "execute_result",
          "data": {
            "text/plain": [
              "(73828, 6)"
            ]
          },
          "metadata": {
            "tags": []
          },
          "execution_count": 35
        }
      ]
    },
    {
      "cell_type": "markdown",
      "metadata": {
        "id": "bQG_B6dOvbh9",
        "colab_type": "text"
      },
      "source": [
        "<h3> <b>Categorical variable to One hot encoding</b></h3>"
      ]
    },
    {
      "cell_type": "code",
      "metadata": {
        "id": "GG4kZjD3so92",
        "colab_type": "code",
        "colab": {
          "base_uri": "https://localhost:8080/",
          "height": 88
        },
        "outputId": "e938d674-4c14-4897-c6f5-eae990aaf293"
      },
      "source": [
        "#One hot encoding of State_Name\n",
        "col='State_Name'\n",
        "#Training data\n",
        "from sklearn.feature_extraction.text import CountVectorizer\n",
        "train_state=list(X_train['State_Name'].unique())\n",
        "\n",
        "vectorizer_col = CountVectorizer(vocabulary=train_state, lowercase=False, binary=True)\n",
        "vectorizer_col.fit(X_train[col].values)\n",
        "print(vectorizer_col.get_feature_names())\n",
        "train_state_one_hot = vectorizer_col.transform(X_train[col].values)\n",
        "print(\"Shape of matrix after one hot encodig \",train_state_one_hot.shape)\n",
        "#For Cross validating data\n",
        "#cv_state_one_hot = vectorizer_col.transform(X_cv[col].values)\n",
        "#print(\"Shape of matrix after one hot encodig \",cv_state_one_hot.shape)\n",
        "\n",
        "  # For testing data \n",
        "test_state_one_hot= vectorizer_col.transform(X_test[col].values)\n",
        "print(\"Shape of matrix after one hot encodig \",test_state_one_hot.shape)"
      ],
      "execution_count": null,
      "outputs": [
        {
          "output_type": "stream",
          "text": [
            "['Andhra Pradesh', 'Uttarakhand', 'Rajasthan', 'Mizoram', 'Chhattisgarh', 'Odisha', 'Nagaland', 'Madhya Pradesh', 'Kerala', 'Uttar Pradesh', 'Punjab', 'Haryana', 'Karnataka', 'Assam', 'Bihar', 'Tripura', 'Maharashtra', 'Tamil Nadu', 'Gujarat', 'Himachal Pradesh', 'West Bengal', 'Telangana ', 'Manipur', 'Jammu and Kashmir ', 'Meghalaya', 'Puducherry', 'Jharkhand', 'Sikkim', 'Arunachal Pradesh', 'Andaman and Nicobar Islands', 'Dadra and Nagar Haveli', 'Chandigarh', 'Goa']\n",
            "Shape of matrix after one hot encodig  (172263, 33)\n",
            "Shape of matrix after one hot encodig  (73828, 33)\n"
          ],
          "name": "stdout"
        }
      ]
    },
    {
      "cell_type": "code",
      "metadata": {
        "id": "nHYdtrmLpKS6",
        "colab_type": "code",
        "colab": {
          "base_uri": "https://localhost:8080/",
          "height": 88
        },
        "outputId": "a21f829c-7b7d-4b39-c5ae-7d1371120741"
      },
      "source": [
        "col='District_Name'\n",
        "#Training data\n",
        "from sklearn.feature_extraction.text import CountVectorizer\n",
        "train_district=list(X_train['District_Name'].unique())\n",
        "vectorizer_col = CountVectorizer(vocabulary=train_district, lowercase=False, binary=True)\n",
        "vectorizer_col.fit(X_train[col].values)\n",
        "print(vectorizer_col.get_feature_names())\n",
        "train_district_one_hot = vectorizer_col.transform(X_train[col].values)\n",
        "print(\"Shape of matrix after one hot encodig \",train_district_one_hot.shape)\n",
        "#For Cross validating data\n",
        "#cv_district_one_hot = vectorizer_col.transform(X_cv[col].values)\n",
        "#print(\"Shape of matrix after one hot encodig \",cv_district_one_hot.shape)\n",
        "\n",
        "  # For testing data \n",
        "test_district_one_hot= vectorizer_col.transform(X_test[col].values)\n",
        "print(\"Shape of matrix after one hot encodig \",test_district_one_hot.shape)"
      ],
      "execution_count": null,
      "outputs": [
        {
          "output_type": "stream",
          "text": [
            "['KRISHNA', 'PAURI GARHWAL', 'BHARATPUR', 'LUNGLEI', 'DANTEWADA', 'SONEPUR', 'WOKHA', 'HOSHANGABAD', 'WEST GODAVARI', 'KANNUR', 'JHALAWAR', 'MAHASAMUND', 'KUSHI NAGAR', 'KANDHAMAL', 'MAYURBHANJ', 'S.A.S NAGAR', 'GURGAON', 'KORAPUT', 'HARDA', 'DHENKANAL', 'SHIMOGA', 'SHAJAPUR', 'PRAKASAM', 'UDAIPUR', 'MANDSAUR', 'JAIPUR', 'HARDOI', 'BALLIA', 'BETUL', 'BALODA BAZAR', 'KARBI ANGLONG', 'PRATAPGARH', 'BHOJPUR', 'CACHAR', 'BUDAUN', 'WEST TRIPURA', 'JAISALMER', 'SANGLI', 'SIDDHARTH NAGAR', 'VISAKHAPATANAM', 'KAMRUP', 'BELGAUM', 'NAGPUR', 'WASHIM', 'RUDRA PRAYAG', 'VIRUDHUNAGAR', 'SEHORE', 'CHAMPHAI', 'RUPNAGAR', 'MOKOKCHUNG', 'PEREN', 'DHARMAPURI', 'UDALGURI', 'MAHENDRAGARH', 'VALSAD', 'KENDUJHAR', 'KANGRA', 'BANGALORE RURAL', 'MURSHIDABAD', 'MADHEPURA', 'MANDYA', 'KURNOOL', 'THIRUVALLUR', 'VELLORE', 'MUZAFFARPUR', 'KARAULI', 'BANKURA', 'MAHBUBNAGAR', 'ERODE', 'CHANDEL', 'SAHARSA', 'DAUSA', 'PUNE', 'NABARANGPUR', 'NAINITAL', 'BALAGHAT', 'GONDA', 'WARDHA', 'SURAT', 'SIVAGANGA', 'GADAG', 'GULBARGA', 'BURHANPUR', 'KOZHIKODE', 'GOPALGANJ', 'SRINAGAR', 'CHHATARPUR', 'FATEHABAD', 'RAIPUR', 'WEST GARO HILLS', 'NADIA', 'CHITTORGARH', 'JODHPUR', 'CHITTOOR', 'REWARI', 'UNNAO', 'SOLAN', 'BARAMULLA', 'KASARAGOD', 'ALWAR', 'DANG', 'JEHANABAD', 'BARPETA', 'PITHORAGARH', 'FARRUKHABAD', 'PONDICHERRY', 'ANANTAPUR', 'PURBI CHAMPARAN', 'CHITRADURGA', 'HASSAN', 'CHAMPAWAT', 'BIDAR', 'PURULIA', 'YAMUNANAGAR', 'CHIKMAGALUR', 'NORTH TRIPURA', 'DHALAI', 'MADURAI', 'GANJAM', 'TONK', 'PERAMBALUR', 'MATHURA', 'SUNDARGARH', 'BASTAR', 'WEST JAINTIA HILLS', 'SANT RAVIDAS NAGAR', 'KHERI', 'GAYA', 'GONDIA', 'BIJNOR', 'JHABUA', 'BHAVNAGAR', 'BHIND', 'MANDLA', 'JALNA', 'SATNA', 'TINSUKIA', 'CHHINDWARA', 'UMARIA', 'JAMNAGAR', 'HAMIRPUR', 'BILASPUR', 'BHAGALPUR', 'BALRAMPUR', 'MARIGAON', 'BARMER', 'PILIBHIT', 'NASHIK', 'CUTTACK', 'NAMAKKAL', 'SANT KABEER NAGAR', 'BHANDARA', 'DEORIA', 'NANDED', 'KRISHNAGIRI', 'BAREILLY', 'BHIWANI', 'DHANBAD', 'BHARUCH', 'PHEK', 'ALMORA', 'KISHANGANJ', 'AURAIYA', 'ETAH', 'DIBRUGARH', 'DEWAS', 'UNAKOTI', 'MADHUBANI', 'SUPAUL', 'DAVANGERE', 'RAMPUR', 'AMRITSAR', 'JAGATSINGHAPUR', 'JANJGIR-CHAMPA', 'CUDDALORE', 'BASTI', 'BAGALKOT', 'KALAHANDI', 'SARAN', 'NALGONDA', 'NARSINGHPUR', 'JORHAT', 'TUENSANG', 'AZAMGARH', 'KOPPAL', 'ERNAKULAM', 'EAST GODAVARI', 'MYSORE', 'BANDA', 'PATAN', 'JAJAPUR', 'MALKANGIRI', 'MAHOBA', 'KAIMUR (BHABUA)', 'GOALPARA', 'BOUDH', 'DINDIGUL', 'BEGUSARAI', 'UDHAMPUR', 'DURG', 'THANJAVUR', 'UJJAIN', 'DHEMAJI', 'PURNIA', 'ALAPPUZHA', 'RAMANAGARA', 'ETAWAH', 'KODAGU', 'NALBARI', 'JASHPUR', 'SIKAR', 'KAMRUP METRO', 'SHEOPUR', 'THIRUVANANTHAPURAM', 'HAILAKANDI', 'MEDAK', 'KOLLAM', 'VAISHALI', 'BULANDSHAHR', 'MEERUT', 'SPSR NELLORE', 'SHRAVASTI', 'SIROHI', 'SAGAR', 'KANNAUJ', 'SIVASAGAR', 'RAJKOT', 'KHAGARIA', 'JALPAIGURI', 'JHARSUGUDA', 'NEEMUCH', 'NUAPADA', 'NIZAMABAD', 'AHMEDNAGAR', '24 PARAGANAS SOUTH', 'RATLAM', 'FATEHGARH SAHIB', 'MALAPPURAM', 'MAHARAJGANJ', 'KOLAR', 'HOSHIARPUR', 'AGRA', 'KHORDHA', 'CHAMARAJANAGAR', 'LUCKNOW', 'SAMBALPUR', 'VARANASI', 'THENI', 'SRIKAKULAM', 'DARRANG', 'RAJGARH', 'ALLAHABAD', 'KHARGONE', 'MUZAFFARNAGAR', 'THRISSUR', 'JABALPUR', 'NAGAUR', 'PASHCHIM CHAMPARAN', 'BUXAR', 'MALDAH', 'KABIRDHAM', 'SOUTH DISTRICT', 'UTTAR KASHI', 'BUNDI', 'KURUKSHETRA', 'GAUTAM BUDDHA NAGAR', 'KORBA', 'ZUNHEBOTO', 'ROHTAS', 'SAHARANPUR', 'KOTTAYAM', 'YAVATMAL', 'BHOPAL', 'CHANDRAPUR', 'AJMER', 'PARBHANI', 'RAJSAMAND', 'GAJAPATI', 'GADCHIROLI', 'FAIZABAD', 'COIMBATORE', 'JALAUN', 'BANSWARA', 'KATNI', 'MEDINIPUR EAST', 'VIZIANAGARAM', 'JAMMU', 'DARBHANGA', 'REWA', 'DHAMTARI', 'KOTA', 'PATHANAMTHITTA', 'KOREA', 'UDAM SINGH NAGAR', 'MORENA', 'KHEDA', 'ARARIA', 'SOLAPUR', 'LAHUL AND SPITI', 'UDUPI', 'BEED', 'BAGHPAT', 'TAMENGLONG', 'MAINPURI', 'GUNTUR', 'RAJNANDGAON', 'AMROHA', 'MANDI', 'SHIVPURI', 'RAICHUR', 'SIDHI', 'DHULE', 'KHANDWA', 'BARGARH', 'LATUR', 'GORAKHPUR', 'KULLU', 'SEONI', 'CHITRAKOOT', 'SHAHJAHANPUR', 'KARIMNAGAR', 'DINAJPUR UTTAR', 'MEWAT', 'VADODARA', 'DHARWAD', 'BAGESHWAR', 'KULGAM', 'TIKAMGARH', 'AMBEDKAR NAGAR', 'NAVSARI', 'CHANGLANG', 'KOKRAJHAR', 'EAST KAMENG', 'MUNGER', 'ARWAL', 'DATIA', 'UNA', 'JAUNPUR', 'BELLARY', 'CHIRANG', 'WARANGAL', 'SATARA', 'AURANGABAD', 'EAST SIANG', 'WEST KHASI HILLS', 'DHUBRI', 'SABAR KANTHA', 'BIRBHUM', 'NALANDA', 'BAKSA', 'EAST GARO HILLS', 'HARIDWAR', 'GANGANAGAR', 'PANCH MAHALS', 'DINDORI', 'BALOD', 'JALGAON', 'HANUMANGARH', 'BHILWARA', 'KINNAUR', 'SANGRUR', 'SONBHADRA', 'JAMUI', 'CHURU', 'RAE BARELI', 'KATIHAR', 'HINGOLI', 'SIRMAUR', '24 PARAGANAS NORTH', 'MEDINIPUR WEST', 'KHAMMAM', 'VILLUPURAM', 'RANGAREDDI', 'RAYAGADA', 'WEST DISTRICT', 'VIDISHA', 'DEOGARH', 'ASHOKNAGAR', 'GHAZIPUR', 'AHMADABAD', 'SIWAN', 'KARNAL', 'RAIGARH', 'SITAMARHI', 'BIKANER', 'NAWADA', 'BULDHANA', 'IDUKKI', 'JALANDHAR', 'CHANDAULI', 'ADILABAD', 'TUMKUR', 'BARWANI', 'MAHESANA', 'PATNA', 'ANUPPUR', 'JALORE', 'SINDHUDURG', 'KACHCHH', 'OSMANABAD', 'BIJAPUR', 'LAKHIMPUR', 'THE NILGIRIS', 'TIRUVANNAMALAI', 'LONGLENG', 'JHUNJHUNU', 'BARDHAMAN', 'DARJEELING', 'PATIALA', 'NAYAGARH', 'ALIRAJPUR', 'GOMATI', 'BANAS KANTHA', 'KARIMGANJ', 'PANNA', 'JUNAGADH', 'RI BHOI', 'THIRUVARUR', 'MUKTSAR', 'DAMOH', 'SOUTH WEST KHASI HILLS', 'SURGUJA', 'KOLASIB', 'UPPER SIANG', 'PURI', 'GHAZIABAD', 'KOLHAPUR', 'FARIDABAD', 'RAIGAD', 'KURUNG KUMEY', 'TIRUCHIRAPPALLI', 'NICOBARS', 'KARUR', 'SOUTH GARO HILLS', 'HISAR', 'SAMASTIPUR', 'PALAKKAD', 'ANUGUL', 'SAWAI MADHOPUR', 'KONDAGAON', 'SITAPUR', 'REASI', 'NARMADA', 'KANKER', 'DHOLPUR', 'GANDHINAGAR', 'KARAIKAL', 'AMRELI', 'JIND', 'BISHNUPUR', 'UTTAR KANNAD', 'HAVERI', 'ROHTAK', 'CHATRA', 'BALANGIR', 'SOUTH ANDAMANS', 'PULWAMA', 'KANNIYAKUMARI', 'KENDRAPARA', 'LALITPUR', 'NAGAON', 'DINAJPUR DAKSHIN', 'DAKSHIN KANNAD', 'SHEIKHPURA', 'AMRAVATI', 'HATHRAS', 'PALI', 'YANAM', 'FIROZABAD', 'PALWAL', 'PUDUKKOTTAI', 'KANPUR NAGAR', 'HOOGHLY', 'DADRA AND NAGAR HAVELI', 'LOWER DIBANG VALLEY', 'CHAMOLI', 'MAHE', 'LOHIT', 'KODERMA', 'ALIGARH', 'SINGRAULI', 'GURDASPUR', 'HAZARIBAGH', 'SONITPUR', 'BARAN', 'SULTANPUR', 'KANPUR DEHAT', 'TIRUPPUR', 'CHAMBA', 'DODA', 'MON', 'BENGALURU URBAN', 'DIMA HASAO', 'RAJAURI', 'SOUTH TRIPURA', 'KANCHIPURAM', 'BONGAIGAON', 'RAISEN', 'AMETHI', 'KAUSHAMBI', 'SHEOHAR', 'DOHAD', 'AIZAWL', 'TEHRI GARHWAL', 'ARIYALUR', 'WAYANAD', 'BHADRAK', 'SALEM', 'DUMKA', 'BALESHWAR', 'BANKA', 'SIRSA', 'GWALIOR', 'MAU', 'SURAJPUR', 'BARABANKI', 'JAMTARA', 'INDORE', 'PALGHAR', 'DEHRADUN', 'MAMIT', 'DUNGARPUR', 'KAITHAL', 'AMBALA', 'SIMDEGA', 'RAMANATHAPURAM', 'PANIPAT', 'BAHRAICH', 'TIRUNELVELI', 'LOWER SUBANSIRI', 'KADAPA', 'MUNGELI', 'SHIMLA', 'TAWANG', 'EAST KHASI HILLS', 'HOWRAH', 'FIROZEPUR', 'ANAND', 'SUKMA', 'SHAHDOL', 'KHOWAI', 'DIMAPUR', 'MORADABAD', 'MIRZAPUR', 'GODDA', 'COOCHBEHAR', 'CHANDIGARH', 'KAPURTHALA', 'NORTH DISTRICT', 'DIBANG VALLEY', 'MOGA', 'GIRIDIH', 'GOLAGHAT', 'EAST DISTRICT', 'GUNA', 'BEMETARA', 'LAKHISARAI', 'TUTICORIN', 'KOHIMA', 'WEST SIANG', 'WEST KAMENG', 'PANCHKULA', 'JHANSI', 'CHURACHANDPUR', 'SHAMLI', 'DHAR', 'EAST JAINTIA HILLS', 'SURENDRANAGAR', 'SAMBHAL', 'KIPHIRE', 'IMPHAL WEST', 'NAGAPATTINAM', 'RANCHI', 'RATNAGIRI', 'DEOGHAR', 'FARIDKOT', 'UPPER SUBANSIRI', 'BATHINDA', 'LATEHAR', 'KASGANJ', 'SONIPAT', 'THANE', 'SENAPATI', 'AKOLA', 'EAST SINGHBUM', 'NORTH GARO HILLS', 'PAPUM PARE', 'NORTH AND MIDDLE ANDAMAN', 'LEH LADAKH', 'BARNALA', 'SEPAHIJALA', 'LUDHIANA', 'BADGAM', 'POONCH', 'TIRAP', 'JHAJJAR', 'FATEHPUR', 'NANDURBAR', 'YADGIR', 'THOUBAL', 'MANSA', 'GARIYABAND', 'KARGIL', 'SHOPIAN', 'LAWNGTLAI', 'SOUTH WEST GARO HILLS', 'SAIHA', 'TAPI', 'BOKARO', 'NORTH GOA', 'SAHEBGANJ', 'UKHRUL', 'CHIKBALLAPUR', 'NARAYANPUR', 'KUPWARA', 'GARHWA', 'LOHARDAGA', 'AGAR MALWA', 'FAZILKA', 'IMPHAL EAST', 'PORBANDAR', 'SARAIKELA KHARSAWAN', 'PALAMU', 'KATHUA', 'SAMBA', 'TARN TARAN', 'PATHANKOT', 'ANJAW', 'PAKUR', 'HAPUR', 'NAWANSHAHR', 'SOUTH GOA', 'ANANTNAG', 'GANDERBAL', 'WEST SINGHBHUM', 'RAMGARH', 'KISHTWAR', 'HYDERABAD', 'RAMBAN', 'GUMLA', 'SERCHHIP', 'LONGDING', 'BANDIPORA', 'MUMBAI', 'KHUNTI', 'NAMSAI']\n",
            "Shape of matrix after one hot encodig  (172263, 646)\n",
            "Shape of matrix after one hot encodig  (73828, 646)\n"
          ],
          "name": "stdout"
        }
      ]
    },
    {
      "cell_type": "code",
      "metadata": {
        "id": "9es5FwoYpcOO",
        "colab_type": "code",
        "colab": {
          "base_uri": "https://localhost:8080/",
          "height": 88
        },
        "outputId": "3d97d47d-c952-4642-dd55-86b617015ea0"
      },
      "source": [
        "col='Crop'\n",
        "#Training data\n",
        "from sklearn.feature_extraction.text import CountVectorizer\n",
        "train_crop=list(X_train['Crop'].unique())\n",
        "\n",
        "\n",
        "vectorizer_col = CountVectorizer(vocabulary=train_crop, lowercase=False, binary=True)\n",
        "vectorizer_col.fit(X_train[col].values)\n",
        "print(vectorizer_col.get_feature_names())\n",
        "train_crop_one_hot = vectorizer_col.transform(X_train[col].values)\n",
        "print(\"Shape of matrix after one hot encodig \",train_crop_one_hot.shape)\n",
        "#For Cross validating data\n",
        "#cv_crop_one_hot = vectorizer_col.transform(X_cv[col].values)\n",
        "#print(\"Shape of matrix after one hot encodig \",cv_crop_one_hot.shape)\n",
        "\n",
        "  # For testing data \n",
        "test_crop_one_hot= vectorizer_col.transform(X_test[col].values)\n",
        "print(\"Shape of matrix after one hot encodig \",test_crop_one_hot.shape)"
      ],
      "execution_count": null,
      "outputs": [
        {
          "output_type": "stream",
          "text": [
            "['Rice', 'Sugarcane', 'Sannhamp', 'Tobacco', 'Wheat', 'Small millets', 'Other  Rabi pulses', 'Garlic', 'Sunflower', 'Turmeric', 'Ragi', 'Moong(Green Gram)', 'Masoor', 'Arhar/Tur', 'Maize', 'Sesamum', 'Potato', 'Safflower', 'Jowar', 'Barley', 'Gram', 'Bajra', 'Linseed', 'Sweet potato', 'Peas & beans (Pulses)', 'other oilseeds', 'Rapeseed &Mustard', 'Onion', 'Cardamom', 'Urad', 'Other Cereals & Millets', 'Tapioca', 'Horse-gram', 'Groundnut', 'Castor seed', 'Total foodgrain', 'Dry chillies', 'Dry ginger', 'Cotton(lint)', 'Jute', 'Banana', 'Other Kharif pulses', 'Pulses total', 'Soyabean', 'Coriander', 'Cabbage', 'Mesta', 'Cowpea(Lobia)', 'Coconut ', 'Niger seed', 'Bhindi', 'Arecanut', 'Brinjal', 'Korra', 'Khesari', 'Papaya', 'Samai', 'Pome Fruit', 'Black pepper', 'Cashewnut', 'Other Fresh Fruits', 'Guar seed', 'Paddy', 'Cashewnut Raw', 'other misc. pulses', 'Orange', 'Oilseeds total', 'Pineapple', 'Tomato', 'Rajmash Kholar', 'Yam', 'Mango', 'Cashewnut Processed', 'Other Vegetables', 'Beans & Mutter(Vegetable)', 'Jack Fruit', 'Moth', 'Pome Granet', 'Blackgram', 'Cauliflower', 'Bitter Gourd', 'Ginger', 'Lentil', 'Sapota', 'Redish', 'Varagu', 'Water Melon', 'Snak Guard', 'Pump Kin', 'Plums', 'Drum Stick', 'Ash Gourd', 'Turnip', 'Cucumber', 'Carrot', 'Grapes', 'Citrus Fruit', 'Tea', 'Lab-Lab', 'Other Dry Fruit', 'Beet Root', 'Litchi', 'Lemon', 'Bottle Gourd', 'other fibres', 'Bean', 'Other Citrus Fruit', 'Arcanut (Processed)', 'Ribed Guard', 'Kapas', 'Rubber', 'Ber', 'Jute & mesta', 'Pear', 'Ricebean (nagadal)', 'Colocosia', 'Coffee', 'Atcanut (Raw)', 'Perilla', 'Peach', 'Jobster', 'Peas  (vegetable)', 'Cond-spcs other', 'Apple']\n",
            "Shape of matrix after one hot encodig  (172263, 124)\n",
            "Shape of matrix after one hot encodig  (73828, 124)\n"
          ],
          "name": "stdout"
        }
      ]
    },
    {
      "cell_type": "code",
      "metadata": {
        "id": "t2luqd92uQw9",
        "colab_type": "code",
        "colab": {
          "base_uri": "https://localhost:8080/",
          "height": 68
        },
        "outputId": "e87379aa-bac6-4d1d-805e-a41a63deda71"
      },
      "source": [
        "col='Season'\n",
        "#Training data\n",
        "from sklearn.feature_extraction.text import CountVectorizer\n",
        "train_season=list(X_train['Season'].unique())\n",
        "\n",
        "\n",
        "vectorizer_col = CountVectorizer(vocabulary=train_season, lowercase=False, binary=True)\n",
        "vectorizer_col.fit(X_train[col].values)\n",
        "print(vectorizer_col.get_feature_names())\n",
        "train_season_one_hot = vectorizer_col.transform(X_train[col].values)\n",
        "print(\"Shape of matrix after one hot encodig \",train_season_one_hot.shape)\n",
        "#For Cross validating data\n",
        "#cv_season_one_hot = vectorizer_col.transform(X_cv[col].values)\n",
        "#print(\"Shape of matrix after one hot encodig \",cv_season_one_hot.shape)\n",
        "\n",
        "  # For testing data \n",
        "test_season_one_hot= vectorizer_col.transform(X_test[col].values)\n",
        "print(\"Shape of matrix after one hot encodig \",test_season_one_hot.shape)"
      ],
      "execution_count": null,
      "outputs": [
        {
          "output_type": "stream",
          "text": [
            "['Rabi       ', 'Whole Year ', 'Summer     ', 'Kharif     ', 'Winter     ', 'Autumn     ']\n",
            "Shape of matrix after one hot encodig  (172263, 6)\n",
            "Shape of matrix after one hot encodig  (73828, 6)\n"
          ],
          "name": "stdout"
        }
      ]
    },
    {
      "cell_type": "code",
      "metadata": {
        "id": "spxZhAvmvHbm",
        "colab_type": "code",
        "colab": {
          "base_uri": "https://localhost:8080/",
          "height": 68
        },
        "outputId": "d4223e54-7748-4742-cac1-770be8e5e2b2"
      },
      "source": [
        "cropyear_list=list(X_train.Crop_Year.unique())\n",
        "\n",
        "vectorizer_col = CountVectorizer(vocabulary=cropyear_list, lowercase=False, binary=True)\n",
        "vectorizer_col.fit(X_train[col].values)\n",
        "print(vectorizer_col.get_feature_names())\n",
        "train_cropyear_one_hot = vectorizer_col.transform(X_train[col].values)\n",
        "print(\"Shape of matrix after one hot encodig \",train_cropyear_one_hot.shape)\n",
        "#For Cross validating data\n",
        "#cv_cropyear_one_hot = vectorizer_col.transform(X_cv[col].values)\n",
        "#print(\"Shape of matrix after one hot encodig \",cv_cropyear_one_hot.shape)\n",
        "\n",
        "  # For testing data \n",
        "test_cropyear_one_hot= vectorizer_col.transform(X_test[col].values)\n",
        "print(\"Shape of matrix after one hot encodig \",test_cropyear_one_hot.shape)"
      ],
      "execution_count": null,
      "outputs": [
        {
          "output_type": "stream",
          "text": [
            "[2012, 2007, 2000, 2006, 2011, 1998, 2010, 2013, 2009, 1999, 2008, 2005, 2003, 2001, 2004, 1997, 2014, 2002, 2015]\n",
            "Shape of matrix after one hot encodig  (172263, 19)\n",
            "Shape of matrix after one hot encodig  (73828, 19)\n"
          ],
          "name": "stdout"
        }
      ]
    },
    {
      "cell_type": "markdown",
      "metadata": {
        "id": "epXmZnrovrWq",
        "colab_type": "text"
      },
      "source": [
        "<h3><b> Normalized Numerical Data</b> </h3>"
      ]
    },
    {
      "cell_type": "code",
      "metadata": {
        "id": "SYokqfXQumfb",
        "colab_type": "code",
        "colab": {
          "base_uri": "https://localhost:8080/",
          "height": 85
        },
        "outputId": "977346a5-308b-4f5f-a668-d90c4e61ea72"
      },
      "source": [
        "# For Area\n",
        "from sklearn.preprocessing import Normalizer\n",
        "\n",
        "\n",
        "normalizer = Normalizer()\n",
        "normalizer.fit(X_train['Area'].values.reshape(1,-1)) # finding the mean and standard deviation of this data\n",
        "\n",
        "# Now standardize the data with above mean and variance.\n",
        "Area_normalized_train = normalizer.transform(X_train['Area'].values.reshape(1,-1))\n",
        "# For Training Data\n",
        "Area_normalized_test= normalizer.transform(X_test['Area'].values.reshape(1,-1))\n",
        "\n",
        "print(\"After Area Normalization\")\n",
        "print(Area_normalized_train.shape, y_train.shape)\n",
        "print(Area_normalized_test.shape, y_test.shape)\n",
        "print('='*50)"
      ],
      "execution_count": null,
      "outputs": [
        {
          "output_type": "stream",
          "text": [
            "After Area Normalization\n",
            "(1, 172263) (172263,)\n",
            "(1, 73828) (73828,)\n",
            "==================================================\n"
          ],
          "name": "stdout"
        }
      ]
    },
    {
      "cell_type": "markdown",
      "metadata": {
        "id": "58g-JFrNFzDa",
        "colab_type": "text"
      },
      "source": [
        "<h2> Combine All categorical and Numerical Data</h2>"
      ]
    },
    {
      "cell_type": "code",
      "metadata": {
        "id": "EaHdAwsm0g07",
        "colab_type": "code",
        "colab": {
          "base_uri": "https://localhost:8080/",
          "height": 68
        },
        "outputId": "f0484437-8011-400d-a431-1f398b5d4904"
      },
      "source": [
        "from scipy.sparse import hstack\n",
        "X_tr=hstack((train_state_one_hot,train_district_one_hot,train_cropyear_one_hot,train_crop_one_hot,train_season_one_hot,Area_normalized_train.T)).tocsr()\n",
        "X_te=hstack((test_state_one_hot,test_district_one_hot,test_cropyear_one_hot,test_crop_one_hot,test_season_one_hot,Area_normalized_test.T)).tocsr()\n",
        "#X_cv=hstack((cv_state_one_hot,cv_district_one_hot,cv_cropyear_one_hot,cv_crop_one_hot,cv_season_one_hot,Area_normalized_cv.T)).tocsr()\n",
        "\n",
        "print(\"Final Data Matrix\")\n",
        "print(X_tr.shape, y_train.shape)\n",
        "print(X_te.shape, y_test.shape)\n",
        "#print(X_cv.shape, y_cv.shape)\n"
      ],
      "execution_count": null,
      "outputs": [
        {
          "output_type": "stream",
          "text": [
            "Final Data Matrix\n",
            "(172263, 829) (172263,)\n",
            "(73828, 829) (73828,)\n"
          ],
          "name": "stdout"
        }
      ]
    },
    {
      "cell_type": "code",
      "metadata": {
        "id": "8qDnwSNd1XBc",
        "colab_type": "code",
        "colab": {}
      },
      "source": [
        "def batch_predict(clf, data):\n",
        "    # roc_auc_score(y_true, y_score) the 2nd parameter should be probability estimates of the positive class\n",
        "    # not the predicted outputs\n",
        "\n",
        "    y_data_pred = []\n",
        "    tr_loop = data.shape[0] - data.shape[0]%1000\n",
        "    # consider you X_tr shape is 49041, then your tr_loop will be 49041 - 49041%1000 = 49000\n",
        "    # in this for loop we will iterate unti the last 1000 multiplier\n",
        "    for i in range(0, tr_loop, 1000):\n",
        "        y_data_pred.extend(clf.predict_proba(data[i:i+1000])[:,1])\n",
        "    # we will be predicting for the last data points\n",
        "    if data.shape[0]%1000 !=0:\n",
        "        y_data_pred.extend(clf.predict_proba(data[tr_loop:])[:,1])\n",
        "    \n",
        "    return y_data_pred"
      ],
      "execution_count": null,
      "outputs": []
    },
    {
      "cell_type": "code",
      "metadata": {
        "id": "GS7wNVXi1fxm",
        "colab_type": "code",
        "colab": {}
      },
      "source": [
        "import pandas as pd  \n",
        "import numpy as np  \n",
        "import matplotlib.pyplot as plt  \n",
        "import seaborn as seabornInstance \n",
        "from sklearn.model_selection import train_test_split \n",
        "from sklearn.linear_model import LinearRegression\n",
        "from sklearn import metrics\n",
        "%matplotlib inline"
      ],
      "execution_count": null,
      "outputs": []
    },
    {
      "cell_type": "markdown",
      "metadata": {
        "id": "vHu0QzlawDTP",
        "colab_type": "text"
      },
      "source": [
        "<h2> <b> Linear Regresssion Model </b> </h2>"
      ]
    },
    {
      "cell_type": "code",
      "metadata": {
        "id": "zBYFXiaMkaLD",
        "colab_type": "code",
        "colab": {
          "base_uri": "https://localhost:8080/",
          "height": 51
        },
        "outputId": "20a317b1-c249-4b9e-98bc-2c7d7e5329b7"
      },
      "source": [
        "\n",
        "from sklearn.metrics import mean_squared_error\n",
        "\n",
        "lm = linear_model.LinearRegression()\n",
        "model = lm.fit(X_tr, y_train)\n",
        "predt_test = lm.predict(X_te)\n",
        "print(mean_squared_error(y_test,predt_test))\n",
        "\n",
        "print(len(model.coef_))\n"
      ],
      "execution_count": null,
      "outputs": [
        {
          "output_type": "stream",
          "text": [
            "241116104525435.3\n",
            "829\n"
          ],
          "name": "stdout"
        }
      ]
    },
    {
      "cell_type": "code",
      "metadata": {
        "id": "OMe58-ijZa71",
        "colab_type": "code",
        "colab": {
          "base_uri": "https://localhost:8080/",
          "height": 1000
        },
        "outputId": "c149c740-d22d-44f7-f13f-8b760233b95c"
      },
      "source": [
        "import os\n",
        "import json\n",
        "import numpy as np\n",
        "import pandas as pd\n",
        "from pandas.io.json import json_normalize\n",
        "import matplotlib.pyplot as plt\n",
        "import seaborn as sns\n",
        "color = sns.color_palette()\n",
        "\n",
        "\n",
        "\n",
        "from plotly import tools\n",
        "import plotly.offline as py\n",
        "py.init_notebook_mode(connected=True)\n",
        "import plotly.graph_objs as go\n",
        "\n",
        "from sklearn import model_selection, preprocessing, metrics\n",
        "\n",
        "pd.options.mode.chained_assignment = None\n",
        "pd.options.display.max_columns = 999\n",
        "\n",
        "\n",
        "import pandas as pd\n",
        "train_df=pd.read_csv('crop_production.csv')\n",
        "\n",
        "train_df.head()\n",
        "\n",
        "\n",
        "# Null value in database\n",
        "train_df.isnull().any()\n",
        "\n",
        "#Unique value in database\n",
        "for col in train_df.columns:\n",
        "  print(train_df[col].unique())\n",
        "  print('='*100)\n",
        "\n",
        "\n",
        "#Replace the value\n",
        "train_df['Production'].value_counts()\n",
        "train_df['Production']=train_df['Production'].replace('=','0')\n",
        "\n",
        "#Missing values in dataset\n",
        "for col in train_df.columns:\n",
        "    nullrow=train_df[col].isnull().sum()\n",
        "    notrow=train_df[col].notnull().sum()\n",
        "    percentage=(nullrow*100)/(nullrow+notrow)\n",
        "    print(\"Column is \",col,percentage,\"% Missing Values\")\n",
        "\n",
        "col=train_df.columns[:6]\n",
        "col\n",
        "\n",
        "train_df[\"Production\"] = train_df[\"Production\"].astype('float')\n",
        "\n",
        "for col in train_df.columns[:6]:\n",
        "  plt.figure(figsize=(13,6)) #figure size\n",
        "  #It's another way to plot our data. using a variable that contains the plot parameters\n",
        "  g1 = sns.barplot(x=col, y='Production',data=train_df[(train_df[col].isin((train_df[col].value_counts()[:10].index.values))) & train_df['Production'] > 0])\n",
        "  g1.set_title(col+'And Production', fontsize=20) # title and fontsize\n",
        "  g1.set_xticklabels(g1.get_xticklabels(),rotation=45) # It's the way to rotate the xticks when we use variable to our graphs\n",
        "  g1.set_xlabel(col, fontsize=18) # Xlabel\n",
        "  g1.set_ylabel('Production(log) Dist', fontsize=18) #Ylabel\n",
        "  plt.show()\n",
        "\n",
        "\n",
        "import pandas as pd\n",
        "from sklearn import datasets, linear_model\n",
        "from sklearn.model_selection import train_test_split\n",
        "from matplotlib import pyplot as plt\n",
        "\n",
        "\n",
        "\n",
        "y=train_df['Production']\n",
        "X_train, X_test, y_train, y_test = train_test_split(train_df, y, test_size=0.3)\n",
        "#X_train,X_cv,y_train,y_cv=train_test_split(x_train,Y_train,test_size=0.2)\n",
        "print(X_train.shape, y_train.shape)\n",
        "#print(X_cv.shape, y_cv.shape)\n",
        "print(X_test.shape, y_test.shape)\n",
        "\n",
        "\n",
        "X_train.drop(['Production'], axis=1,inplace=True)\n",
        "X_test.drop(['Production'],axis=1,inplace=True)\n",
        "#X_cv.drop(['Production'],axis=1,inplace=True)\n",
        "X_test.shape\n",
        "\n",
        "\n",
        "#One hot encoding of State_Name\n",
        "col='State_Name'\n",
        "#Training data\n",
        "from sklearn.feature_extraction.text import CountVectorizer\n",
        "train_state=list(X_train['State_Name'].unique())\n",
        "\n",
        "vectorizer_col = CountVectorizer(vocabulary=train_state, lowercase=False, binary=True)\n",
        "vectorizer_col.fit(X_train[col].values)\n",
        "print(vectorizer_col.get_feature_names())\n",
        "train_state_one_hot = vectorizer_col.transform(X_train[col].values)\n",
        "print(\"Shape of matrix after one hot encodig \",train_state_one_hot.shape)\n",
        "#For Cross validating data\n",
        "#cv_state_one_hot = vectorizer_col.transform(X_cv[col].values)\n",
        "#print(\"Shape of matrix after one hot encodig \",cv_state_one_hot.shape)\n",
        "\n",
        "  # For testing data \n",
        "test_state_one_hot= vectorizer_col.transform(X_test[col].values)\n",
        "print(\"Shape of matrix after one hot encodig \",test_state_one_hot.shape)\n",
        "\n",
        "col='District_Name'\n",
        "#Training data\n",
        "from sklearn.feature_extraction.text import CountVectorizer\n",
        "train_district=list(X_train['District_Name'].unique())\n",
        "vectorizer_col = CountVectorizer(vocabulary=train_district, lowercase=False, binary=True)\n",
        "vectorizer_col.fit(X_train[col].values)\n",
        "print(vectorizer_col.get_feature_names())\n",
        "train_district_one_hot = vectorizer_col.transform(X_train[col].values)\n",
        "print(\"Shape of matrix after one hot encodig \",train_district_one_hot.shape)\n",
        "#For Cross validating data\n",
        "#cv_district_one_hot = vectorizer_col.transform(X_cv[col].values)\n",
        "#print(\"Shape of matrix after one hot encodig \",cv_district_one_hot.shape)\n",
        "\n",
        "  # For testing data \n",
        "test_district_one_hot= vectorizer_col.transform(X_test[col].values)\n",
        "print(\"Shape of matrix after one hot encodig \",test_district_one_hot.shape)\n",
        "\n",
        "\n",
        "col='Crop'\n",
        "#Training data\n",
        "from sklearn.feature_extraction.text import CountVectorizer\n",
        "train_crop=list(X_train['Crop'].unique())\n",
        "\n",
        "\n",
        "vectorizer_col = CountVectorizer(vocabulary=train_crop, lowercase=False, binary=True)\n",
        "vectorizer_col.fit(X_train[col].values)\n",
        "print(vectorizer_col.get_feature_names())\n",
        "train_crop_one_hot = vectorizer_col.transform(X_train[col].values)\n",
        "print(\"Shape of matrix after one hot encodig \",train_crop_one_hot.shape)\n",
        "#For Cross validating data\n",
        "#cv_crop_one_hot = vectorizer_col.transform(X_cv[col].values)\n",
        "#print(\"Shape of matrix after one hot encodig \",cv_crop_one_hot.shape)\n",
        "\n",
        "  # For testing data \n",
        "test_crop_one_hot= vectorizer_col.transform(X_test[col].values)\n",
        "print(\"Shape of matrix after one hot encodig \",test_crop_one_hot.shape)\n",
        "\n",
        "\n",
        "\n",
        "col='Season'\n",
        "#Training data\n",
        "from sklearn.feature_extraction.text import CountVectorizer\n",
        "train_season=list(X_train['Season'].unique())\n",
        "\n",
        "\n",
        "vectorizer_col = CountVectorizer(vocabulary=train_season, lowercase=False, binary=True)\n",
        "vectorizer_col.fit(X_train[col].values)\n",
        "print(vectorizer_col.get_feature_names())\n",
        "train_season_one_hot = vectorizer_col.transform(X_train[col].values)\n",
        "print(\"Shape of matrix after one hot encodig \",train_season_one_hot.shape)\n",
        "#For Cross validating data\n",
        "#cv_season_one_hot = vectorizer_col.transform(X_cv[col].values)\n",
        "#print(\"Shape of matrix after one hot encodig \",cv_season_one_hot.shape)\n",
        "\n",
        "  # For testing data \n",
        "test_season_one_hot= vectorizer_col.transform(X_test[col].values)\n",
        "print(\"Shape of matrix after one hot encodig \",test_season_one_hot.shape)\n",
        "\n",
        "\n",
        "\n",
        "cropyear_list=list(X_train.Crop_Year.unique())\n",
        "\n",
        "vectorizer_col = CountVectorizer(vocabulary=cropyear_list, lowercase=False, binary=True)\n",
        "vectorizer_col.fit(X_train[col].values)\n",
        "print(vectorizer_col.get_feature_names())\n",
        "train_cropyear_one_hot = vectorizer_col.transform(X_train[col].values)\n",
        "print(\"Shape of matrix after one hot encodig \",train_cropyear_one_hot.shape)\n",
        "#For Cross validating data\n",
        "#cv_cropyear_one_hot = vectorizer_col.transform(X_cv[col].values)\n",
        "#print(\"Shape of matrix after one hot encodig \",cv_cropyear_one_hot.shape)\n",
        "\n",
        "  # For testing data \n",
        "test_cropyear_one_hot= vectorizer_col.transform(X_test[col].values)\n",
        "print(\"Shape of matrix after one hot encodig \",test_cropyear_one_hot.shape)\n",
        "\n",
        "\n",
        "# For Area\n",
        "# the cost feature is already in numerical values,  we are going to represent the money, as numerical values within the range 0-1\n",
        "# normalization sklearn: https://scikit-learn.org/stable/modules/generated/sklearn.preprocessing.StandardScaler.html\n",
        "from sklearn.preprocessing import Normalizer\n",
        "\n",
        "# price_normalized = standardScalar.fit(project_data['price'].values)\n",
        "# this will rise the error\n",
        "# ValueError: Expected 2D array, got 1D array instead: array=[725.05 213.03 329.   ... 399.   287.73   5.5 ].\n",
        "# Reshape your data either using array.reshape(1,-1)\n",
        "\n",
        "normalizer = Normalizer()\n",
        "normalizer.fit(X_train['Area'].values.reshape(1,-1)) # finding the mean and standard deviation of this data\n",
        "\n",
        "# Now standardize the data with above mean and variance.\n",
        "Area_normalized_train = normalizer.transform(X_train['Area'].values.reshape(1,-1))\n",
        "# For Training Data\n",
        "Area_normalized_test= normalizer.transform(X_test['Area'].values.reshape(1,-1))\n",
        "# For Validating Data\n",
        "#Area_normalized_cv= normalizer.transform(X_cv['Area'].values.reshape(1,-1))\n",
        "\n",
        "print(\"After Area Normalization\")\n",
        "print(Area_normalized_train.shape, y_train.shape)\n",
        "print(Area_normalized_test.shape, y_test.shape)\n",
        "#print(Area_normalized_cv.shape, y_cv.shape)\n",
        "\n",
        "print('='*50)\n",
        "\n",
        "\n",
        "from scipy.sparse import hstack\n",
        "X_tr=hstack((train_state_one_hot,train_district_one_hot,train_cropyear_one_hot,train_crop_one_hot,train_season_one_hot,Area_normalized_train.T)).tocsr()\n",
        "X_te=hstack((test_state_one_hot,test_district_one_hot,test_cropyear_one_hot,test_crop_one_hot,test_season_one_hot,Area_normalized_test.T)).tocsr()\n",
        "#X_cv=hstack((cv_state_one_hot,cv_district_one_hot,cv_cropyear_one_hot,cv_crop_one_hot,cv_season_one_hot,Area_normalized_cv.T)).tocsr()\n",
        "\n",
        "print(\"Final Data Matrix\")\n",
        "print(X_tr.shape, y_train.shape)\n",
        "print(X_te.shape, y_test.shape)\n",
        "#print(X_cv.shape, y_cv.shape)\n",
        "\n",
        "\n",
        "def batch_predict(clf, data):\n",
        "    # roc_auc_score(y_true, y_score) the 2nd parameter should be probability estimates of the positive class\n",
        "    # not the predicted outputs\n",
        "\n",
        "    y_data_pred = []\n",
        "    tr_loop = data.shape[0] - data.shape[0]%1000\n",
        "    # consider you X_tr shape is 49041, then your tr_loop will be 49041 - 49041%1000 = 49000\n",
        "    # in this for loop we will iterate unti the last 1000 multiplier\n",
        "    for i in range(0, tr_loop, 1000):\n",
        "        y_data_pred.extend(clf.predict_proba(data[i:i+1000])[:,1])\n",
        "    # we will be predicting for the last data points\n",
        "    if data.shape[0]%1000 !=0:\n",
        "        y_data_pred.extend(clf.predict_proba(data[tr_loop:])[:,1])\n",
        "    \n",
        "    return y_data_pred\n",
        "\n",
        "\n",
        "\n",
        "import pandas as pd  \n",
        "import numpy as np  \n",
        "import matplotlib.pyplot as plt  \n",
        "import seaborn as seabornInstance \n",
        "from sklearn.model_selection import train_test_split \n",
        "from sklearn.linear_model import LinearRegression\n",
        "from sklearn import metrics\n",
        "#%matplotlib inline\n",
        "\n",
        "\n",
        "from sklearn.metrics import mean_squared_error\n",
        "\n",
        "lm = linear_model.LinearRegression()\n",
        "model = lm.fit(X_tr, y_train)\n",
        "predt_test = lm.predict(X_te)\n",
        "print(mean_squared_error(y_test,predt_test))\n",
        "\n",
        "print(len(model.coef_))\n",
        "\n",
        "\n",
        "import matplotlib.pyplot as plt\n",
        "from sklearn.naive_bayes import MultinomialNB\n",
        "from sklearn.metrics import roc_auc_score\n",
        "import math\n",
        "\"\"\"\n",
        "y_true : array, shape = [n_samples] or [n_samples, n_classes]\n",
        "Final Data matrix\n",
        "((22445, 10144), (22445,))\n",
        "((11055, 10144), (11055,))\n",
        "((16500, 10144), (16500,))\n",
        "====================================================================================================\n",
        "y_true : array, shape = [n_samples] or [n_samples, n_classes]\n",
        "True binary labels or binary label indicators.\n",
        "y_score : array, shape = [n_samples] or [n_samples, n_classes]\n",
        "Target scores, can either be probability estimates of the positive class, confidence values, or no\n",
        "n-thresholded measure of\n",
        "decisions (as returned by “decision_function” on some classifiers).\n",
        "For binary y_true, y_score is supposed to be the score of the class with greater label.\n",
        "\"\"\"\n",
        "train_auc = []\n",
        "cv_auc = []\n",
        "neigh =linear_model.LinearRegression()\n",
        "neigh.fit(X_tr, y_train)\n",
        "y_train_pred =neigh.predict(X_tr)\n",
        "y_cv_pred =neigh.predict(X_tr)\n",
        "mean_squared_error(y_train_pred,y_cv_pred)\n",
        "\n",
        "lm = linear_model.LinearRegression()\n",
        "model = lm.fit(X_tr, y_train)\n",
        "predictions = lm.predict(X_te)\n",
        "mean_squared_error(y_test,predictions)\n",
        "print(model.coef_)\n",
        "\n",
        "\n",
        "\n",
        "import xgboost as xgb\n",
        "model1=xgb.XGBRegressor()\n",
        "model1.fit(X_tr,y_train)\n",
        "print(model1)\n",
        "pred=model.predict(X_te)\n",
        "print(mean_squared_error(y_test,pred))\n",
        "\n",
        "\n",
        "\n",
        "\n",
        "from sklearn.model_selection import GridSearchCV\n",
        "import xgboost as xgb\n",
        "\n",
        "from sklearn.ensemble import RandomForestClassifier\n",
        "estimators=[10, 50, 100, 200, 300,500, 1000]\n",
        "depth=[2, 3, 4,7, 8, 10,12]\n",
        "\n",
        "for n in estimators:\n",
        "  for d in depth:\n",
        "    model =xgb.XGBRegressor(n_estimators=n,learning_rate=0.01,max_depth=d,n_jobs=-1,random_state=2)\n",
        "    model.fit(X_tr,y_train)\n",
        "    pred=model.predict(X_te)\n",
        "    print(mean_squared_error(y_test,pred))\n"
      ],
      "execution_count": null,
      "outputs": [
        {
          "output_type": "display_data",
          "data": {
            "text/html": [
              "        <script type=\"text/javascript\">\n",
              "        window.PlotlyConfig = {MathJaxConfig: 'local'};\n",
              "        if (window.MathJax) {MathJax.Hub.Config({SVG: {font: \"STIX-Web\"}});}\n",
              "        if (typeof require !== 'undefined') {\n",
              "        require.undef(\"plotly\");\n",
              "        requirejs.config({\n",
              "            paths: {\n",
              "                'plotly': ['https://cdn.plot.ly/plotly-latest.min']\n",
              "            }\n",
              "        });\n",
              "        require(['plotly'], function(Plotly) {\n",
              "            window._Plotly = Plotly;\n",
              "        });\n",
              "        }\n",
              "        </script>\n",
              "        "
            ]
          },
          "metadata": {
            "tags": []
          }
        },
        {
          "output_type": "stream",
          "text": [
            "['Andaman and Nicobar Islands' 'Andhra Pradesh' 'Arunachal Pradesh'\n",
            " 'Assam' 'Bihar' 'Chandigarh' 'Chhattisgarh' 'Dadra and Nagar Haveli'\n",
            " 'Goa' 'Gujarat' 'Haryana' 'Himachal Pradesh' 'Jammu and Kashmir '\n",
            " 'Jharkhand' 'Karnataka' 'Kerala' 'Madhya Pradesh' 'Maharashtra' 'Manipur'\n",
            " 'Meghalaya' 'Mizoram' 'Nagaland' 'Odisha' 'Puducherry' 'Punjab'\n",
            " 'Rajasthan' 'Sikkim' 'Tamil Nadu' 'Telangana ' 'Tripura' 'Uttar Pradesh'\n",
            " 'Uttarakhand' 'West Bengal']\n",
            "====================================================================================================\n",
            "['NICOBARS' 'NORTH AND MIDDLE ANDAMAN' 'SOUTH ANDAMANS' 'ANANTAPUR'\n",
            " 'CHITTOOR' 'EAST GODAVARI' 'GUNTUR' 'KADAPA' 'KRISHNA' 'KURNOOL'\n",
            " 'PRAKASAM' 'SPSR NELLORE' 'SRIKAKULAM' 'VISAKHAPATANAM' 'VIZIANAGARAM'\n",
            " 'WEST GODAVARI' 'ANJAW' 'CHANGLANG' 'DIBANG VALLEY' 'EAST KAMENG'\n",
            " 'EAST SIANG' 'KURUNG KUMEY' 'LOHIT' 'LONGDING' 'LOWER DIBANG VALLEY'\n",
            " 'LOWER SUBANSIRI' 'NAMSAI' 'PAPUM PARE' 'TAWANG' 'TIRAP' 'UPPER SIANG'\n",
            " 'UPPER SUBANSIRI' 'WEST KAMENG' 'WEST SIANG' 'BAKSA' 'BARPETA'\n",
            " 'BONGAIGAON' 'CACHAR' 'CHIRANG' 'DARRANG' 'DHEMAJI' 'DHUBRI' 'DIBRUGARH'\n",
            " 'DIMA HASAO' 'GOALPARA' 'GOLAGHAT' 'HAILAKANDI' 'JORHAT' 'KAMRUP'\n",
            " 'KAMRUP METRO' 'KARBI ANGLONG' 'KARIMGANJ' 'KOKRAJHAR' 'LAKHIMPUR'\n",
            " 'MARIGAON' 'NAGAON' 'NALBARI' 'SIVASAGAR' 'SONITPUR' 'TINSUKIA'\n",
            " 'UDALGURI' 'ARARIA' 'ARWAL' 'AURANGABAD' 'BANKA' 'BEGUSARAI' 'BHAGALPUR'\n",
            " 'BHOJPUR' 'BUXAR' 'DARBHANGA' 'GAYA' 'GOPALGANJ' 'JAMUI' 'JEHANABAD'\n",
            " 'KAIMUR (BHABUA)' 'KATIHAR' 'KHAGARIA' 'KISHANGANJ' 'LAKHISARAI'\n",
            " 'MADHEPURA' 'MADHUBANI' 'MUNGER' 'MUZAFFARPUR' 'NALANDA' 'NAWADA'\n",
            " 'PASHCHIM CHAMPARAN' 'PATNA' 'PURBI CHAMPARAN' 'PURNIA' 'ROHTAS'\n",
            " 'SAHARSA' 'SAMASTIPUR' 'SARAN' 'SHEIKHPURA' 'SHEOHAR' 'SITAMARHI' 'SIWAN'\n",
            " 'SUPAUL' 'VAISHALI' 'CHANDIGARH' 'BALOD' 'BALODA BAZAR' 'BALRAMPUR'\n",
            " 'BASTAR' 'BEMETARA' 'BIJAPUR' 'BILASPUR' 'DANTEWADA' 'DHAMTARI' 'DURG'\n",
            " 'GARIYABAND' 'JANJGIR-CHAMPA' 'JASHPUR' 'KABIRDHAM' 'KANKER' 'KONDAGAON'\n",
            " 'KORBA' 'KOREA' 'MAHASAMUND' 'MUNGELI' 'NARAYANPUR' 'RAIGARH' 'RAIPUR'\n",
            " 'RAJNANDGAON' 'SUKMA' 'SURAJPUR' 'SURGUJA' 'DADRA AND NAGAR HAVELI'\n",
            " 'NORTH GOA' 'SOUTH GOA' 'AHMADABAD' 'AMRELI' 'ANAND' 'BANAS KANTHA'\n",
            " 'BHARUCH' 'BHAVNAGAR' 'DANG' 'DOHAD' 'GANDHINAGAR' 'JAMNAGAR' 'JUNAGADH'\n",
            " 'KACHCHH' 'KHEDA' 'MAHESANA' 'NARMADA' 'NAVSARI' 'PANCH MAHALS' 'PATAN'\n",
            " 'PORBANDAR' 'RAJKOT' 'SABAR KANTHA' 'SURAT' 'SURENDRANAGAR' 'TAPI'\n",
            " 'VADODARA' 'VALSAD' 'AMBALA' 'BHIWANI' 'FARIDABAD' 'FATEHABAD' 'GURGAON'\n",
            " 'HISAR' 'JHAJJAR' 'JIND' 'KAITHAL' 'KARNAL' 'KURUKSHETRA' 'MAHENDRAGARH'\n",
            " 'MEWAT' 'PALWAL' 'PANCHKULA' 'PANIPAT' 'REWARI' 'ROHTAK' 'SIRSA'\n",
            " 'SONIPAT' 'YAMUNANAGAR' 'CHAMBA' 'HAMIRPUR' 'KANGRA' 'KINNAUR' 'KULLU'\n",
            " 'LAHUL AND SPITI' 'MANDI' 'SHIMLA' 'SIRMAUR' 'SOLAN' 'UNA' 'ANANTNAG'\n",
            " 'BADGAM' 'BANDIPORA' 'BARAMULLA' 'DODA' 'GANDERBAL' 'JAMMU' 'KARGIL'\n",
            " 'KATHUA' 'KISHTWAR' 'KULGAM' 'KUPWARA' 'LEH LADAKH' 'POONCH' 'PULWAMA'\n",
            " 'RAJAURI' 'RAMBAN' 'REASI' 'SAMBA' 'SHOPIAN' 'SRINAGAR' 'UDHAMPUR'\n",
            " 'BOKARO' 'CHATRA' 'DEOGHAR' 'DHANBAD' 'DUMKA' 'EAST SINGHBUM' 'GARHWA'\n",
            " 'GIRIDIH' 'GODDA' 'GUMLA' 'HAZARIBAGH' 'JAMTARA' 'KHUNTI' 'KODERMA'\n",
            " 'LATEHAR' 'LOHARDAGA' 'PAKUR' 'PALAMU' 'RAMGARH' 'RANCHI' 'SAHEBGANJ'\n",
            " 'SARAIKELA KHARSAWAN' 'SIMDEGA' 'WEST SINGHBHUM' 'BAGALKOT'\n",
            " 'BANGALORE RURAL' 'BELGAUM' 'BELLARY' 'BENGALURU URBAN' 'BIDAR'\n",
            " 'CHAMARAJANAGAR' 'CHIKBALLAPUR' 'CHIKMAGALUR' 'CHITRADURGA'\n",
            " 'DAKSHIN KANNAD' 'DAVANGERE' 'DHARWAD' 'GADAG' 'GULBARGA' 'HASSAN'\n",
            " 'HAVERI' 'KODAGU' 'KOLAR' 'KOPPAL' 'MANDYA' 'MYSORE' 'RAICHUR'\n",
            " 'RAMANAGARA' 'SHIMOGA' 'TUMKUR' 'UDUPI' 'UTTAR KANNAD' 'YADGIR'\n",
            " 'ALAPPUZHA' 'ERNAKULAM' 'IDUKKI' 'KANNUR' 'KASARAGOD' 'KOLLAM' 'KOTTAYAM'\n",
            " 'KOZHIKODE' 'MALAPPURAM' 'PALAKKAD' 'PATHANAMTHITTA' 'THIRUVANANTHAPURAM'\n",
            " 'THRISSUR' 'WAYANAD' 'AGAR MALWA' 'ALIRAJPUR' 'ANUPPUR' 'ASHOKNAGAR'\n",
            " 'BALAGHAT' 'BARWANI' 'BETUL' 'BHIND' 'BHOPAL' 'BURHANPUR' 'CHHATARPUR'\n",
            " 'CHHINDWARA' 'DAMOH' 'DATIA' 'DEWAS' 'DHAR' 'DINDORI' 'GUNA' 'GWALIOR'\n",
            " 'HARDA' 'HOSHANGABAD' 'INDORE' 'JABALPUR' 'JHABUA' 'KATNI' 'KHANDWA'\n",
            " 'KHARGONE' 'MANDLA' 'MANDSAUR' 'MORENA' 'NARSINGHPUR' 'NEEMUCH' 'PANNA'\n",
            " 'RAISEN' 'RAJGARH' 'RATLAM' 'REWA' 'SAGAR' 'SATNA' 'SEHORE' 'SEONI'\n",
            " 'SHAHDOL' 'SHAJAPUR' 'SHEOPUR' 'SHIVPURI' 'SIDHI' 'SINGRAULI' 'TIKAMGARH'\n",
            " 'UJJAIN' 'UMARIA' 'VIDISHA' 'AHMEDNAGAR' 'AKOLA' 'AMRAVATI' 'BEED'\n",
            " 'BHANDARA' 'BULDHANA' 'CHANDRAPUR' 'DHULE' 'GADCHIROLI' 'GONDIA'\n",
            " 'HINGOLI' 'JALGAON' 'JALNA' 'KOLHAPUR' 'LATUR' 'MUMBAI' 'NAGPUR' 'NANDED'\n",
            " 'NANDURBAR' 'NASHIK' 'OSMANABAD' 'PALGHAR' 'PARBHANI' 'PUNE' 'RAIGAD'\n",
            " 'RATNAGIRI' 'SANGLI' 'SATARA' 'SINDHUDURG' 'SOLAPUR' 'THANE' 'WARDHA'\n",
            " 'WASHIM' 'YAVATMAL' 'BISHNUPUR' 'CHANDEL' 'CHURACHANDPUR' 'IMPHAL EAST'\n",
            " 'IMPHAL WEST' 'SENAPATI' 'TAMENGLONG' 'THOUBAL' 'UKHRUL'\n",
            " 'EAST GARO HILLS' 'EAST JAINTIA HILLS' 'EAST KHASI HILLS'\n",
            " 'NORTH GARO HILLS' 'RI BHOI' 'SOUTH GARO HILLS' 'SOUTH WEST GARO HILLS'\n",
            " 'SOUTH WEST KHASI HILLS' 'WEST GARO HILLS' 'WEST JAINTIA HILLS'\n",
            " 'WEST KHASI HILLS' 'AIZAWL' 'CHAMPHAI' 'KOLASIB' 'LAWNGTLAI' 'LUNGLEI'\n",
            " 'MAMIT' 'SAIHA' 'SERCHHIP' 'DIMAPUR' 'KIPHIRE' 'KOHIMA' 'LONGLENG'\n",
            " 'MOKOKCHUNG' 'MON' 'PEREN' 'PHEK' 'TUENSANG' 'WOKHA' 'ZUNHEBOTO' 'ANUGUL'\n",
            " 'BALANGIR' 'BALESHWAR' 'BARGARH' 'BHADRAK' 'BOUDH' 'CUTTACK' 'DEOGARH'\n",
            " 'DHENKANAL' 'GAJAPATI' 'GANJAM' 'JAGATSINGHAPUR' 'JAJAPUR' 'JHARSUGUDA'\n",
            " 'KALAHANDI' 'KANDHAMAL' 'KENDRAPARA' 'KENDUJHAR' 'KHORDHA' 'KORAPUT'\n",
            " 'MALKANGIRI' 'MAYURBHANJ' 'NABARANGPUR' 'NAYAGARH' 'NUAPADA' 'PURI'\n",
            " 'RAYAGADA' 'SAMBALPUR' 'SONEPUR' 'SUNDARGARH' 'KARAIKAL' 'MAHE'\n",
            " 'PONDICHERRY' 'YANAM' 'AMRITSAR' 'BARNALA' 'BATHINDA' 'FARIDKOT'\n",
            " 'FATEHGARH SAHIB' 'FAZILKA' 'FIROZEPUR' 'GURDASPUR' 'HOSHIARPUR'\n",
            " 'JALANDHAR' 'KAPURTHALA' 'LUDHIANA' 'MANSA' 'MOGA' 'MUKTSAR' 'NAWANSHAHR'\n",
            " 'PATHANKOT' 'PATIALA' 'RUPNAGAR' 'S.A.S NAGAR' 'SANGRUR' 'TARN TARAN'\n",
            " 'AJMER' 'ALWAR' 'BANSWARA' 'BARAN' 'BARMER' 'BHARATPUR' 'BHILWARA'\n",
            " 'BIKANER' 'BUNDI' 'CHITTORGARH' 'CHURU' 'DAUSA' 'DHOLPUR' 'DUNGARPUR'\n",
            " 'GANGANAGAR' 'HANUMANGARH' 'JAIPUR' 'JAISALMER' 'JALORE' 'JHALAWAR'\n",
            " 'JHUNJHUNU' 'JODHPUR' 'KARAULI' 'KOTA' 'NAGAUR' 'PALI' 'PRATAPGARH'\n",
            " 'RAJSAMAND' 'SAWAI MADHOPUR' 'SIKAR' 'SIROHI' 'TONK' 'UDAIPUR'\n",
            " 'EAST DISTRICT' 'NORTH DISTRICT' 'SOUTH DISTRICT' 'WEST DISTRICT'\n",
            " 'ARIYALUR' 'COIMBATORE' 'CUDDALORE' 'DHARMAPURI' 'DINDIGUL' 'ERODE'\n",
            " 'KANCHIPURAM' 'KANNIYAKUMARI' 'KARUR' 'KRISHNAGIRI' 'MADURAI'\n",
            " 'NAGAPATTINAM' 'NAMAKKAL' 'PERAMBALUR' 'PUDUKKOTTAI' 'RAMANATHAPURAM'\n",
            " 'SALEM' 'SIVAGANGA' 'THANJAVUR' 'THE NILGIRIS' 'THENI' 'THIRUVALLUR'\n",
            " 'THIRUVARUR' 'TIRUCHIRAPPALLI' 'TIRUNELVELI' 'TIRUPPUR' 'TIRUVANNAMALAI'\n",
            " 'TUTICORIN' 'VELLORE' 'VILLUPURAM' 'VIRUDHUNAGAR' 'ADILABAD' 'HYDERABAD'\n",
            " 'KARIMNAGAR' 'KHAMMAM' 'MAHBUBNAGAR' 'MEDAK' 'NALGONDA' 'NIZAMABAD'\n",
            " 'RANGAREDDI' 'WARANGAL' 'DHALAI' 'GOMATI' 'KHOWAI' 'NORTH TRIPURA'\n",
            " 'SEPAHIJALA' 'SOUTH TRIPURA' 'UNAKOTI' 'WEST TRIPURA' 'AGRA' 'ALIGARH'\n",
            " 'ALLAHABAD' 'AMBEDKAR NAGAR' 'AMETHI' 'AMROHA' 'AURAIYA' 'AZAMGARH'\n",
            " 'BAGHPAT' 'BAHRAICH' 'BALLIA' 'BANDA' 'BARABANKI' 'BAREILLY' 'BASTI'\n",
            " 'BIJNOR' 'BUDAUN' 'BULANDSHAHR' 'CHANDAULI' 'CHITRAKOOT' 'DEORIA' 'ETAH'\n",
            " 'ETAWAH' 'FAIZABAD' 'FARRUKHABAD' 'FATEHPUR' 'FIROZABAD'\n",
            " 'GAUTAM BUDDHA NAGAR' 'GHAZIABAD' 'GHAZIPUR' 'GONDA' 'GORAKHPUR' 'HAPUR'\n",
            " 'HARDOI' 'HATHRAS' 'JALAUN' 'JAUNPUR' 'JHANSI' 'KANNAUJ' 'KANPUR DEHAT'\n",
            " 'KANPUR NAGAR' 'KASGANJ' 'KAUSHAMBI' 'KHERI' 'KUSHI NAGAR' 'LALITPUR'\n",
            " 'LUCKNOW' 'MAHARAJGANJ' 'MAHOBA' 'MAINPURI' 'MATHURA' 'MAU' 'MEERUT'\n",
            " 'MIRZAPUR' 'MORADABAD' 'MUZAFFARNAGAR' 'PILIBHIT' 'RAE BARELI' 'RAMPUR'\n",
            " 'SAHARANPUR' 'SAMBHAL' 'SANT KABEER NAGAR' 'SANT RAVIDAS NAGAR'\n",
            " 'SHAHJAHANPUR' 'SHAMLI' 'SHRAVASTI' 'SIDDHARTH NAGAR' 'SITAPUR'\n",
            " 'SONBHADRA' 'SULTANPUR' 'UNNAO' 'VARANASI' 'ALMORA' 'BAGESHWAR' 'CHAMOLI'\n",
            " 'CHAMPAWAT' 'DEHRADUN' 'HARIDWAR' 'NAINITAL' 'PAURI GARHWAL'\n",
            " 'PITHORAGARH' 'RUDRA PRAYAG' 'TEHRI GARHWAL' 'UDAM SINGH NAGAR'\n",
            " 'UTTAR KASHI' '24 PARAGANAS NORTH' '24 PARAGANAS SOUTH' 'BANKURA'\n",
            " 'BARDHAMAN' 'BIRBHUM' 'COOCHBEHAR' 'DARJEELING' 'DINAJPUR DAKSHIN'\n",
            " 'DINAJPUR UTTAR' 'HOOGHLY' 'HOWRAH' 'JALPAIGURI' 'MALDAH'\n",
            " 'MEDINIPUR EAST' 'MEDINIPUR WEST' 'MURSHIDABAD' 'NADIA' 'PURULIA']\n",
            "====================================================================================================\n",
            "[2000 2001 2002 2003 2004 2005 2006 2010 1997 1998 1999 2007 2008 2009\n",
            " 2011 2012 2013 2014 2015]\n",
            "====================================================================================================\n",
            "['Kharif     ' 'Whole Year ' 'Autumn     ' 'Rabi       ' 'Summer     '\n",
            " 'Winter     ']\n",
            "====================================================================================================\n",
            "['Arecanut' 'Other Kharif pulses' 'Rice' 'Banana' 'Cashewnut' 'Coconut '\n",
            " 'Dry ginger' 'Sugarcane' 'Sweet potato' 'Tapioca' 'Black pepper'\n",
            " 'Dry chillies' 'other oilseeds' 'Turmeric' 'Maize' 'Moong(Green Gram)'\n",
            " 'Urad' 'Arhar/Tur' 'Groundnut' 'Sunflower' 'Bajra' 'Castor seed'\n",
            " 'Cotton(lint)' 'Horse-gram' 'Jowar' 'Korra' 'Ragi' 'Tobacco' 'Gram'\n",
            " 'Wheat' 'Masoor' 'Sesamum' 'Linseed' 'Safflower' 'Onion'\n",
            " 'other misc. pulses' 'Samai' 'Small millets' 'Coriander' 'Potato'\n",
            " 'Other  Rabi pulses' 'Soyabean' 'Beans & Mutter(Vegetable)' 'Bhindi'\n",
            " 'Brinjal' 'Citrus Fruit' 'Cucumber' 'Grapes' 'Mango' 'Orange'\n",
            " 'other fibres' 'Other Fresh Fruits' 'Other Vegetables' 'Papaya'\n",
            " 'Pome Fruit' 'Tomato' 'Rapeseed &Mustard' 'Mesta' 'Cowpea(Lobia)' 'Lemon'\n",
            " 'Pome Granet' 'Sapota' 'Cabbage' 'Peas  (vegetable)' 'Niger seed'\n",
            " 'Bottle Gourd' 'Sannhamp' 'Varagu' 'Garlic' 'Ginger' 'Oilseeds total'\n",
            " 'Pulses total' 'Jute' 'Peas & beans (Pulses)' 'Blackgram' 'Paddy'\n",
            " 'Pineapple' 'Barley' 'Khesari' 'Guar seed' 'Moth'\n",
            " 'Other Cereals & Millets' 'Cond-spcs other' 'Turnip' 'Carrot' 'Redish'\n",
            " 'Arcanut (Processed)' 'Atcanut (Raw)' 'Cashewnut Processed'\n",
            " 'Cashewnut Raw' 'Cardamom' 'Rubber' 'Bitter Gourd' 'Drum Stick'\n",
            " 'Jack Fruit' 'Snak Guard' 'Pump Kin' 'Tea' 'Coffee' 'Cauliflower'\n",
            " 'Other Citrus Fruit' 'Water Melon' 'Total foodgrain' 'Kapas' 'Colocosia'\n",
            " 'Lentil' 'Bean' 'Jobster' 'Perilla' 'Rajmash Kholar' 'Ricebean (nagadal)'\n",
            " 'Ash Gourd' 'Beet Root' 'Lab-Lab' 'Ribed Guard' 'Yam' 'Apple' 'Peach'\n",
            " 'Pear' 'Plums' 'Litchi' 'Ber' 'Other Dry Fruit' 'Jute & mesta']\n",
            "====================================================================================================\n",
            "[1.25400e+03 2.00000e+00 1.02000e+02 ... 3.02274e+05 1.14930e+04\n",
            " 2.79151e+05]\n",
            "====================================================================================================\n",
            "[2.00000e+03 1.00000e+00 3.21000e+02 ... 7.29553e+05 7.30136e+05\n",
            " 5.97899e+05]\n",
            "====================================================================================================\n",
            "Column is  State_Name 0.0 % Missing Values\n",
            "Column is  District_Name 0.0 % Missing Values\n",
            "Column is  Crop_Year 0.0 % Missing Values\n",
            "Column is  Season 0.0 % Missing Values\n",
            "Column is  Crop 0.0 % Missing Values\n",
            "Column is  Area 0.0 % Missing Values\n",
            "Column is  Production 1.5156994770227274 % Missing Values\n"
          ],
          "name": "stdout"
        },
        {
          "output_type": "display_data",
          "data": {
            "image/png": "[encoded data removed]",
            "text/plain": [
              "<Figure size 936x432 with 1 Axes>"
            ]
          },
          "metadata": {
            "tags": [],
            "needs_background": "light"
          }
        },
        {
          "output_type": "display_data",
          "data": {
            "image/png": "[encoded data removed]",
            "text/plain": [
              "<Figure size 936x432 with 1 Axes>"
            ]
          },
          "metadata": {
            "tags": [],
            "needs_background": "light"
          }
        },
        {
          "output_type": "display_data",
          "data": {
            "image/png": "[encoded data removed]",
            "text/plain": [
              "<Figure size 936x432 with 1 Axes>"
            ]
          },
          "metadata": {
            "tags": [],
            "needs_background": "light"
          }
        },
        {
          "output_type": "display_data",
          "data": {
            "image/png": "[encoded data removed]",
            "text/plain": [
              "<Figure size 936x432 with 1 Axes>"
            ]
          },
          "metadata": {
            "tags": [],
            "needs_background": "light"
          }
        },
        {
          "output_type": "display_data",
          "data": {
            "image/png": "[encoded data removed]",
            "text/plain": [
              "<Figure size 936x432 with 1 Axes>"
            ]
          },
          "metadata": {
            "tags": [],
            "needs_background": "light"
          }
        },
        {
          "output_type": "display_data",
          "data": {
            "image/png": "[encoded data removed]",
            "text/plain": [
              "<Figure size 936x432 with 1 Axes>"
            ]
          },
          "metadata": {
            "tags": [],
            "needs_background": "light"
          }
        },
        {
          "output_type": "stream",
          "text": [
            "(172263, 7) (172263,)\n",
            "(73828, 7) (73828,)\n",
            "['Uttar Pradesh', 'West Bengal', 'Rajasthan', 'Odisha', 'Andhra Pradesh', 'Assam', 'Maharashtra', 'Bihar', 'Karnataka', 'Goa', 'Uttarakhand', 'Tamil Nadu', 'Himachal Pradesh', 'Madhya Pradesh', 'Telangana ', 'Gujarat', 'Nagaland', 'Chhattisgarh', 'Puducherry', 'Kerala', 'Meghalaya', 'Punjab', 'Haryana', 'Jammu and Kashmir ', 'Sikkim', 'Mizoram', 'Arunachal Pradesh', 'Manipur', 'Jharkhand', 'Andaman and Nicobar Islands', 'Tripura', 'Dadra and Nagar Haveli', 'Chandigarh']\n",
            "Shape of matrix after one hot encodig  (172263, 33)\n",
            "Shape of matrix after one hot encodig  (73828, 33)\n",
            "['ETAWAH', 'HATHRAS', 'MEDINIPUR WEST', 'ALWAR', 'BALANGIR', 'VIZIANAGARAM', 'KOKRAJHAR', 'NABARANGPUR', 'JALNA', 'MADHUBANI', 'BHANDARA', 'BAGALKOT', 'RAYAGADA', 'BANKA', 'DINAJPUR UTTAR', 'EAST GODAVARI', 'DHUBRI', 'MORADABAD', 'KANNAUJ', 'KODAGU', 'GADCHIROLI', 'BARABANKI', 'SOUTH GOA', 'JAMUI', 'CHAMOLI', 'KANPUR NAGAR', 'TUTICORIN', 'SHAHJAHANPUR', 'GAUTAM BUDDHA NAGAR', 'THANE', 'PURULIA', 'MANDI', 'TUMKUR', 'SEONI', 'BIDAR', 'KARIMNAGAR', 'PERAMBALUR', 'CHANDAULI', 'DHULE', 'GAJAPATI', 'SHAHDOL', 'DEORIA', 'AZAMGARH', 'SABAR KANTHA', 'KOHIMA', 'TUENSANG', 'DHAMTARI', 'KHAGARIA', 'TIKAMGARH', 'BHOPAL', 'BUNDI', 'JODHPUR', 'JAMNAGAR', 'CHAMARAJANAGAR', 'KARIMGANJ', 'NALBARI', 'KHANDWA', 'JANJGIR-CHAMPA', 'SAHARSA', 'JAGATSINGHAPUR', 'MAYURBHANJ', 'GANGANAGAR', 'MAHE', 'KATNI', 'ETAH', 'GOLAGHAT', 'UDUPI', 'KRISHNA', 'THIRUVANANTHAPURAM', 'KADAPA', 'MAHBUBNAGAR', 'FIROZABAD', 'RAMPUR', 'MURSHIDABAD', 'KHORDHA', 'LAKHIMPUR', 'GANJAM', 'JHALAWAR', 'PATHANAMTHITTA', 'EAST JAINTIA HILLS', 'AHMEDNAGAR', 'BASTAR', 'SINGRAULI', 'PATHANKOT', 'BANGALORE RURAL', 'BIJAPUR', 'PANCHKULA', 'BARPETA', 'KENDUJHAR', 'MIRZAPUR', 'KURNOOL', 'MADHEPURA', 'KUPWARA', 'KOLLAM', 'RAICHUR', 'SRIKAKULAM', 'MEDINIPUR EAST', 'BANKURA', 'MALDAH', 'NORTH GOA', 'LALITPUR', 'BETUL', 'LUDHIANA', 'PURBI CHAMPARAN', 'SOUTH DISTRICT', 'CHHATARPUR', 'KANKER', 'ARARIA', 'SHIMOGA', 'MUNGER', 'AIZAWL', 'KANDHAMAL', 'LUCKNOW', 'SUNDARGARH', 'TONK', 'BASTI', '24 PARAGANAS SOUTH', 'KRISHNAGIRI', 'DARBHANGA', 'JHABUA', 'CHAMBA', 'CHIKMAGALUR', 'NAGAON', 'DEHRADUN', 'CACHAR', 'PANNA', 'SITAMARHI', 'UDAIPUR', 'DINAJPUR DAKSHIN', 'SOUTH GARO HILLS', 'MAINPURI', 'BHARUCH', 'MAHOBA', 'DINDORI', 'MYSORE', 'TIRUCHIRAPPALLI', 'KARUR', 'PASHCHIM CHAMPARAN', 'MANSA', 'BARWANI', 'BALRAMPUR', 'AMRELI', 'WASHIM', 'PUDUKKOTTAI', 'ADILABAD', 'RI BHOI', 'MOKOKCHUNG', 'DHAR', 'UPPER SIANG', 'HAPUR', 'GONDIA', 'KHEDA', 'KOPPAL', 'NANDED', 'RATNAGIRI', 'KOZHIKODE', 'PRATAPGARH', 'TAMENGLONG', 'LOHARDAGA', 'SIWAN', 'BELGAUM', 'DAMOH', 'KOREA', 'KAITHAL', 'PITHORAGARH', 'RAMANATHAPURAM', 'NICOBARS', 'JAIPUR', 'SOUTH TRIPURA', 'DHANBAD', 'BURHANPUR', 'RAISEN', 'MEDAK', 'BILASPUR', 'AURANGABAD', 'HASSAN', 'GOALPARA', 'NAMAKKAL', 'DIMAPUR', 'SAMASTIPUR', 'FAIZABAD', 'AGRA', 'HAMIRPUR', 'PONDICHERRY', 'NAWADA', 'KAMRUP METRO', 'SONITPUR', 'MAHESANA', 'BOUDH', 'NADIA', 'BHIND', 'JEHANABAD', 'BHAGALPUR', 'SIRMAUR', 'RAJKOT', 'HAILAKANDI', 'ALMORA', 'NUAPADA', 'SAMBALPUR', 'TIRUNELVELI', 'CHITRADURGA', 'DIMA HASAO', 'RUDRA PRAYAG', 'ALIGARH', 'VALSAD', 'HOWRAH', 'UDALGURI', 'CHURACHANDPUR', 'WARANGAL', 'PORBANDAR', 'BARAN', 'BENGALURU URBAN', 'UJJAIN', 'GUNA', 'KARBI ANGLONG', 'NANDURBAR', 'SALEM', 'BHILWARA', 'SIVAGANGA', 'ALLAHABAD', 'JAISALMER', 'BARGARH', 'DANTEWADA', 'KAMRUP', 'THENI', 'CHITRAKOOT', 'BIRBHUM', 'ANJAW', 'ZUNHEBOTO', 'FATEHABAD', 'BALODA BAZAR', 'PALI', 'BULDHANA', 'REWA', 'SONBHADRA', 'JAJAPUR', 'PEREN', 'SANT RAVIDAS NAGAR', 'CHITTORGARH', 'LUNGLEI', 'JUNAGADH', 'SARAIKELA KHARSAWAN', 'GULBARGA', 'RATLAM', 'KISHANGANJ', 'KORBA', 'KHAMMAM', 'KALAHANDI', 'HOSHANGABAD', 'RAIGAD', 'NALGONDA', 'DODA', 'GURGAON', 'MON', 'GOMATI', 'EAST KHASI HILLS', 'RAJSAMAND', 'HANUMANGARH', 'JHARSUGUDA', 'GUNTUR', 'GURDASPUR', 'UTTAR KASHI', 'DHENKANAL', 'VILLUPURAM', 'COOCHBEHAR', 'KANPUR DEHAT', 'CHIRANG', 'JALGAON', 'BEGUSARAI', 'BEMETARA', 'BANAS KANTHA', 'CUDDALORE', 'KATIHAR', 'BIKANER', 'MUZAFFARNAGAR', 'KHERI', 'DHARMAPURI', '24 PARAGANAS NORTH', 'CHITTOOR', 'JALPAIGURI', 'SHAJAPUR', 'WEST KAMENG', 'NIZAMABAD', 'ALIRAJPUR', 'SURGUJA', 'DINDIGUL', 'ANUGUL', 'TIRUVANNAMALAI', 'KANNUR', 'KANGRA', 'JHANSI', 'YANAM', 'KASGANJ', 'NEEMUCH', 'FARRUKHABAD', 'KANNIYAKUMARI', 'GOPALGANJ', 'JALAUN', 'WEST GODAVARI', 'ANUPPUR', 'KAIMUR (BHABUA)', 'NARSINGHPUR', 'INDORE', 'SHEIKHPURA', 'UMARIA', 'KOLASIB', 'JORHAT', 'SULTANPUR', 'PARBHANI', 'AKOLA', 'RAJNANDGAON', 'LAKHISARAI', 'VADODARA', 'JASHPUR', 'COIMBATORE', 'PAURI GARHWAL', 'JIND', 'WEST KHASI HILLS', 'GONDA', 'DAKSHIN KANNAD', 'KHARGONE', 'MANDLA', 'MUZAFFARPUR', 'BIJNOR', 'NALANDA', 'TINSUKIA', 'MANDSAUR', 'THANJAVUR', 'AMROHA', 'SIDHI', 'DARJEELING', 'GANDHINAGAR', 'BAREILLY', 'HARDA', 'DHALAI', 'GAYA', 'GORAKHPUR', 'BALLIA', 'CHANDRAPUR', 'SIKAR', 'VELLORE', 'SHEOHAR', 'EAST DISTRICT', 'HINGOLI', 'BISHNUPUR', 'BHIWANI', 'BARMER', 'SIROHI', 'BARDHAMAN', 'PRAKASAM', 'LONGLENG', 'JALORE', 'DARRANG', 'MEERUT', 'DHARWAD', 'SATNA', 'NASHIK', 'ASHOKNAGAR', 'SOLAPUR', 'FARIDKOT', 'KARAULI', 'SITAPUR', 'AMBALA', 'THRISSUR', 'MANDYA', 'EAST SIANG', 'DADRA AND NAGAR HAVELI', 'THIRUVARUR', 'KORAPUT', 'CHHINDWARA', 'SHIMLA', 'MATHURA', 'NAVSARI', 'KIPHIRE', 'PURI', 'MADURAI', 'PALAKKAD', 'FARIDABAD', 'MEWAT', 'JAUNPUR', 'BANDA', 'VARANASI', 'BAKSA', 'WEST SIANG', 'BULANDSHAHR', 'VIRUDHUNAGAR', 'BHADRAK', 'HAVERI', 'PANCH MAHALS', 'IDUKKI', 'HISAR', 'BONGAIGAON', 'EAST GARO HILLS', 'SOLAN', 'BAGHPAT', 'PALWAL', 'RAIPUR', 'BALAGHAT', 'UTTAR KANNAD', 'KANCHIPURAM', 'JHUNJHUNU', 'DEWAS', 'DHOLPUR', 'KINNAUR', 'KOTA', 'SIVASAGAR', 'RAJGARH', 'NAINITAL', 'KOLHAPUR', 'SONEPUR', 'SURAT', 'SAWAI MADHOPUR', 'KENDRAPARA', 'AJMER', 'SHIVPURI', 'WOKHA', 'DHEMAJI', 'ROHTAK', 'CHAMPAWAT', 'AMRITSAR', 'VAISHALI', 'WEST GARO HILLS', 'SIDDHARTH NAGAR', 'FATEHPUR', 'LATUR', 'RAIGARH', 'PURNIA', 'SANGLI', 'OSMANABAD', 'SONIPAT', 'RANGAREDDI', 'DATIA', 'UKHRUL', 'AURAIYA', 'GWALIOR', 'GHAZIPUR', 'GHAZIABAD', 'GADAG', 'SAGAR', 'DAVANGERE', 'THIRUVALLUR', 'MORENA', 'DAUSA', 'YAVATMAL', 'MARIGAON', 'PANIPAT', 'SEHORE', 'ARWAL', 'MALAPPURAM', 'SURENDRANAGAR', 'DANG', 'WEST TRIPURA', 'KUSHI NAGAR', 'KASARAGOD', 'KARNAL', 'VISAKHAPATANAM', 'IMPHAL EAST', 'NAGAUR', 'JABALPUR', 'HARDOI', 'SUPAUL', 'BAHRAICH', 'SANGRUR', 'KOLAR', 'SHAMLI', 'SIRSA', 'MAU', 'RAE BARELI', 'ALAPPUZHA', 'BELLARY', 'LONGDING', 'RUPNAGAR', 'BALOD', 'SPSR NELLORE', 'MOGA', 'UNAKOTI', 'BOKARO', 'AMRAVATI', 'MUNGELI', 'SARAN', 'DUNGARPUR', 'MAHASAMUND', 'UDAM SINGH NAGAR', 'RAJAURI', 'YAMUNANAGAR', 'UDHAMPUR', 'KODERMA', 'KABIRDHAM', 'BALESHWAR', 'SHEOPUR', 'GARHWA', 'KAPURTHALA', 'NORTH DISTRICT', 'MAHARAJGANJ', 'UNA', 'SOUTH WEST GARO HILLS', 'POONCH', 'SOUTH WEST KHASI HILLS', 'BUDAUN', 'TIRUPPUR', 'KARAIKAL', 'AMETHI', 'AHMADABAD', 'NARMADA', 'BATHINDA', 'PHEK', 'LOWER SUBANSIRI', 'SATARA', 'TIRAP', 'LOWER DIBANG VALLEY', 'BHARATPUR', 'KATHUA', 'NAGPUR', 'NARAYANPUR', 'CUTTACK', 'KACHCHH', 'TAWANG', 'TEHRI GARHWAL', 'KULLU', 'JAMMU', 'ERNAKULAM', 'ANANTAPUR', 'MALKANGIRI', 'HARIDWAR', 'SANT KABEER NAGAR', 'NAWANSHAHR', 'BHAVNAGAR', 'GARIYABAND', 'WAYANAD', 'CHAMPHAI', 'CHANDEL', 'ROHTAS', 'HOOGHLY', 'DIBRUGARH', 'UNNAO', 'ERODE', 'PATIALA', 'BADGAM', 'EAST KAMENG', 'PATAN', 'BUXAR', 'DOHAD', 'ANANTNAG', 'NAGAPATTINAM', 'BAGESHWAR', 'LEH LADAKH', 'MAHENDRAGARH', 'DIBANG VALLEY', 'DURG', 'NORTH TRIPURA', 'PATNA', 'CHURU', 'BEED', 'UPPER SUBANSIRI', 'SHRAVASTI', 'VIDISHA', 'THE NILGIRIS', 'LOHIT', 'ANAND', 'TAPI', 'YADGIR', 'JHAJJAR', 'HAZARIBAGH', 'BARNALA', 'KAUSHAMBI', 'BANSWARA', 'TARN TARAN', 'PILIBHIT', 'PUNE', 'SAHARANPUR', 'SOUTH ANDAMANS', 'KOTTAYAM', 'JALANDHAR', 'KURUKSHETRA', 'SUKMA', 'REWARI', 'WARDHA', 'WEST DISTRICT', 'NAYAGARH', 'SURAJPUR', 'FIROZEPUR', 'CHATRA', 'DEOGHAR', 'SENAPATI', 'RAMANAGARA', 'AMBEDKAR NAGAR', 'RANCHI', 'LAWNGTLAI', 'PAPUM PARE', 'KARGIL', 'KISHTWAR', 'DEOGARH', 'MUKTSAR', 'BHOJPUR', 'SERCHHIP', 'SRINAGAR', 'PULWAMA', 'CHANGLANG', 'WEST JAINTIA HILLS', 'GUMLA', 'GIRIDIH', 'ARIYALUR', 'DUMKA', 'CHIKBALLAPUR', 'KONDAGAON', 'KURUNG KUMEY', 'PALAMU', 'SIMDEGA', 'RAMBAN', 'HOSHIARPUR', 'NORTH AND MIDDLE ANDAMAN', 'THOUBAL', 'SAIHA', 'SAMBHAL', 'SINDHUDURG', 'WEST SINGHBHUM', 'LAHUL AND SPITI', 'SAMBA', 'SAHEBGANJ', 'KHOWAI', 'CHANDIGARH', 'BANDIPORA', 'SEPAHIJALA', 'LATEHAR', 'MAMIT', 'S.A.S NAGAR', 'GODDA', 'IMPHAL WEST', 'FATEHGARH SAHIB', 'BARAMULLA', 'FAZILKA', 'HYDERABAD', 'PAKUR', 'NORTH GARO HILLS', 'REASI', 'EAST SINGHBUM', 'KULGAM', 'AGAR MALWA', 'SHOPIAN', 'GANDERBAL', 'JAMTARA', 'KHUNTI', 'RAMGARH', 'PALGHAR', 'MUMBAI', 'NAMSAI']\n",
            "Shape of matrix after one hot encodig  (172263, 646)\n",
            "Shape of matrix after one hot encodig  (73828, 646)\n",
            "['Urad', 'Arhar/Tur', 'Maize', 'Onion', 'Rice', 'Castor seed', 'Niger seed', 'Groundnut', 'Linseed', 'Gram', 'Small millets', 'Sesamum', 'Bajra', 'Moong(Green Gram)', 'Black pepper', 'Sunflower', 'Rapeseed &Mustard', 'Dry chillies', 'Wheat', 'Guar seed', 'Other Kharif pulses', 'Masoor', 'Cowpea(Lobia)', 'Sannhamp', 'Turmeric', 'Garlic', 'Sweet potato', 'Coriander', 'Potato', 'Other  Rabi pulses', 'Horse-gram', 'Sugarcane', 'Banana', 'Papaya', 'Jowar', 'Cotton(lint)', 'Peas & beans (Pulses)', 'Coconut ', 'Jute', 'Soyabean', 'Korra', 'Barley', 'Arecanut', 'Tobacco', 'Orange', 'Oilseeds total', 'Pulses total', 'Khesari', 'Moth', 'Dry ginger', 'Jack Fruit', 'Other Vegetables', 'Beans & Mutter(Vegetable)', 'other oilseeds', 'Ragi', 'Mesta', 'Mango', 'Brinjal', 'Safflower', 'Drum Stick', 'Bitter Gourd', 'Water Melon', 'Samai', 'Pome Fruit', 'Cardamom', 'Jute & mesta', 'Paddy', 'Other Cereals & Millets', 'Other Fresh Fruits', 'Cashewnut', 'Tapioca', 'Colocosia', 'Cabbage', 'Pineapple', 'Cucumber', 'Rubber', 'Ginger', 'Rajmash Kholar', 'Bottle Gourd', 'Blackgram', 'Yam', 'Grapes', 'Tomato', 'Bhindi', 'Total foodgrain', 'Citrus Fruit', 'Redish', 'Sapota', 'Ash Gourd', 'Pump Kin', 'Arcanut (Processed)', 'other misc. pulses', 'Cashewnut Raw', 'Varagu', 'Snak Guard', 'Ber', 'Ribed Guard', 'Pome Granet', 'Turnip', 'Lab-Lab', 'Coffee', 'other fibres', 'Atcanut (Raw)', 'Plums', 'Tea', 'Cauliflower', 'Beet Root', 'Lentil', 'Jobster', 'Lemon', 'Carrot', 'Cond-spcs other', 'Bean', 'Peach', 'Kapas', 'Other Citrus Fruit', 'Pear', 'Cashewnut Processed', 'Apple', 'Perilla', 'Litchi', 'Peas  (vegetable)', 'Ricebean (nagadal)']\n",
            "Shape of matrix after one hot encodig  (172263, 123)\n",
            "Shape of matrix after one hot encodig  (73828, 123)\n",
            "['Kharif     ', 'Whole Year ', 'Winter     ', 'Autumn     ', 'Rabi       ', 'Summer     ']\n",
            "Shape of matrix after one hot encodig  (172263, 6)\n",
            "Shape of matrix after one hot encodig  (73828, 6)\n",
            "[2000, 2001, 2004, 2008, 2005, 2003, 2009, 2002, 2011, 2007, 2013, 2012, 1999, 2006, 2010, 1997, 1998, 2014, 2015]\n",
            "Shape of matrix after one hot encodig  (172263, 19)\n",
            "Shape of matrix after one hot encodig  (73828, 19)\n",
            "After Area Normalization\n",
            "(1, 172263) (172263,)\n",
            "(1, 73828) (73828,)\n",
            "==================================================\n",
            "Final Data Matrix\n",
            "(172263, 828) (172263,)\n",
            "(73828, 828) (73828,)\n"
          ],
          "name": "stdout"
        },
        {
          "output_type": "error",
          "ename": "ValueError",
          "evalue": "ignored",
          "traceback": [
            "\u001b[0;31m---------------------------------------------------------------------------\u001b[0m",
            "\u001b[0;31mValueError\u001b[0m                                Traceback (most recent call last)",
            "\u001b[0;32m<ipython-input-27-54e2c9986a96>\u001b[0m in \u001b[0;36m<module>\u001b[0;34m()\u001b[0m\n\u001b[1;32m    249\u001b[0m \u001b[0;34m\u001b[0m\u001b[0m\n\u001b[1;32m    250\u001b[0m \u001b[0mlm\u001b[0m \u001b[0;34m=\u001b[0m \u001b[0mlinear_model\u001b[0m\u001b[0;34m.\u001b[0m\u001b[0mLinearRegression\u001b[0m\u001b[0;34m(\u001b[0m\u001b[0;34m)\u001b[0m\u001b[0;34m\u001b[0m\u001b[0;34m\u001b[0m\u001b[0m\n\u001b[0;32m--> 251\u001b[0;31m \u001b[0mmodel\u001b[0m \u001b[0;34m=\u001b[0m \u001b[0mlm\u001b[0m\u001b[0;34m.\u001b[0m\u001b[0mfit\u001b[0m\u001b[0;34m(\u001b[0m\u001b[0mX_tr\u001b[0m\u001b[0;34m,\u001b[0m \u001b[0my_train\u001b[0m\u001b[0;34m)\u001b[0m\u001b[0;34m\u001b[0m\u001b[0;34m\u001b[0m\u001b[0m\n\u001b[0m\u001b[1;32m    252\u001b[0m \u001b[0mpredt_test\u001b[0m \u001b[0;34m=\u001b[0m \u001b[0mlm\u001b[0m\u001b[0;34m.\u001b[0m\u001b[0mpredict\u001b[0m\u001b[0;34m(\u001b[0m\u001b[0mX_te\u001b[0m\u001b[0;34m)\u001b[0m\u001b[0;34m\u001b[0m\u001b[0;34m\u001b[0m\u001b[0m\n\u001b[1;32m    253\u001b[0m \u001b[0mprint\u001b[0m\u001b[0;34m(\u001b[0m\u001b[0mmean_squared_error\u001b[0m\u001b[0;34m(\u001b[0m\u001b[0my_test\u001b[0m\u001b[0;34m,\u001b[0m\u001b[0mpredt_test\u001b[0m\u001b[0;34m)\u001b[0m\u001b[0;34m)\u001b[0m\u001b[0;34m\u001b[0m\u001b[0;34m\u001b[0m\u001b[0m\n",
            "\u001b[0;32m/usr/local/lib/python3.6/dist-packages/sklearn/linear_model/_base.py\u001b[0m in \u001b[0;36mfit\u001b[0;34m(self, X, y, sample_weight)\u001b[0m\n\u001b[1;32m    490\u001b[0m         \u001b[0mn_jobs_\u001b[0m \u001b[0;34m=\u001b[0m \u001b[0mself\u001b[0m\u001b[0;34m.\u001b[0m\u001b[0mn_jobs\u001b[0m\u001b[0;34m\u001b[0m\u001b[0;34m\u001b[0m\u001b[0m\n\u001b[1;32m    491\u001b[0m         X, y = check_X_y(X, y, accept_sparse=['csr', 'csc', 'coo'],\n\u001b[0;32m--> 492\u001b[0;31m                          y_numeric=True, multi_output=True)\n\u001b[0m\u001b[1;32m    493\u001b[0m \u001b[0;34m\u001b[0m\u001b[0m\n\u001b[1;32m    494\u001b[0m         \u001b[0;32mif\u001b[0m \u001b[0msample_weight\u001b[0m \u001b[0;32mis\u001b[0m \u001b[0;32mnot\u001b[0m \u001b[0;32mNone\u001b[0m\u001b[0;34m:\u001b[0m\u001b[0;34m\u001b[0m\u001b[0;34m\u001b[0m\u001b[0m\n",
            "\u001b[0;32m/usr/local/lib/python3.6/dist-packages/sklearn/utils/validation.py\u001b[0m in \u001b[0;36mcheck_X_y\u001b[0;34m(X, y, accept_sparse, accept_large_sparse, dtype, order, copy, force_all_finite, ensure_2d, allow_nd, multi_output, ensure_min_samples, ensure_min_features, y_numeric, warn_on_dtype, estimator)\u001b[0m\n\u001b[1;32m    756\u001b[0m     \u001b[0;32mif\u001b[0m \u001b[0mmulti_output\u001b[0m\u001b[0;34m:\u001b[0m\u001b[0;34m\u001b[0m\u001b[0;34m\u001b[0m\u001b[0m\n\u001b[1;32m    757\u001b[0m         y = check_array(y, 'csr', force_all_finite=True, ensure_2d=False,\n\u001b[0;32m--> 758\u001b[0;31m                         dtype=None)\n\u001b[0m\u001b[1;32m    759\u001b[0m     \u001b[0;32melse\u001b[0m\u001b[0;34m:\u001b[0m\u001b[0;34m\u001b[0m\u001b[0;34m\u001b[0m\u001b[0m\n\u001b[1;32m    760\u001b[0m         \u001b[0my\u001b[0m \u001b[0;34m=\u001b[0m \u001b[0mcolumn_or_1d\u001b[0m\u001b[0;34m(\u001b[0m\u001b[0my\u001b[0m\u001b[0;34m,\u001b[0m \u001b[0mwarn\u001b[0m\u001b[0;34m=\u001b[0m\u001b[0;32mTrue\u001b[0m\u001b[0;34m)\u001b[0m\u001b[0;34m\u001b[0m\u001b[0;34m\u001b[0m\u001b[0m\n",
            "\u001b[0;32m/usr/local/lib/python3.6/dist-packages/sklearn/utils/validation.py\u001b[0m in \u001b[0;36mcheck_array\u001b[0;34m(array, accept_sparse, accept_large_sparse, dtype, order, copy, force_all_finite, ensure_2d, allow_nd, ensure_min_samples, ensure_min_features, warn_on_dtype, estimator)\u001b[0m\n\u001b[1;32m    576\u001b[0m         \u001b[0;32mif\u001b[0m \u001b[0mforce_all_finite\u001b[0m\u001b[0;34m:\u001b[0m\u001b[0;34m\u001b[0m\u001b[0;34m\u001b[0m\u001b[0m\n\u001b[1;32m    577\u001b[0m             _assert_all_finite(array,\n\u001b[0;32m--> 578\u001b[0;31m                                allow_nan=force_all_finite == 'allow-nan')\n\u001b[0m\u001b[1;32m    579\u001b[0m \u001b[0;34m\u001b[0m\u001b[0m\n\u001b[1;32m    580\u001b[0m     \u001b[0;32mif\u001b[0m \u001b[0mensure_min_samples\u001b[0m \u001b[0;34m>\u001b[0m \u001b[0;36m0\u001b[0m\u001b[0;34m:\u001b[0m\u001b[0;34m\u001b[0m\u001b[0;34m\u001b[0m\u001b[0m\n",
            "\u001b[0;32m/usr/local/lib/python3.6/dist-packages/sklearn/utils/validation.py\u001b[0m in \u001b[0;36m_assert_all_finite\u001b[0;34m(X, allow_nan, msg_dtype)\u001b[0m\n\u001b[1;32m     58\u001b[0m                     \u001b[0mmsg_err\u001b[0m\u001b[0;34m.\u001b[0m\u001b[0mformat\u001b[0m\u001b[0;34m\u001b[0m\u001b[0;34m\u001b[0m\u001b[0m\n\u001b[1;32m     59\u001b[0m                     (type_err,\n\u001b[0;32m---> 60\u001b[0;31m                      msg_dtype if msg_dtype is not None else X.dtype)\n\u001b[0m\u001b[1;32m     61\u001b[0m             )\n\u001b[1;32m     62\u001b[0m     \u001b[0;31m# for object dtype data, we only check for NaNs (GH-13254)\u001b[0m\u001b[0;34m\u001b[0m\u001b[0;34m\u001b[0m\u001b[0;34m\u001b[0m\u001b[0m\n",
            "\u001b[0;31mValueError\u001b[0m: Input contains NaN, infinity or a value too large for dtype('float64')."
          ]
        }
      ]
    },
    {
      "cell_type": "markdown",
      "metadata": {
        "id": "SlJVtfOsGEgw",
        "colab_type": "text"
      },
      "source": [
        "##Linear Regression Model"
      ]
    },
    {
      "cell_type": "code",
      "metadata": {
        "colab_type": "code",
        "id": "IMfV6ik5Gtai",
        "colab": {
          "base_uri": "https://localhost:8080/",
          "height": 34
        },
        "outputId": "cbebd4e4-7f28-48f1-bd1f-b7d655bb7c9b"
      },
      "source": [
        "import matplotlib.pyplot as plt\n",
        "from sklearn.naive_bayes import MultinomialNB\n",
        "from sklearn.metrics import roc_auc_score\n",
        "import math\n",
        "\"\"\"\n",
        "y_true : array, shape = [n_samples] or [n_samples, n_classes]\n",
        "Final Data matrix\n",
        "((22445, 10144), (22445,))\n",
        "((11055, 10144), (11055,))\n",
        "((16500, 10144), (16500,))\n",
        "====================================================================================================\n",
        "y_true : array, shape = [n_samples] or [n_samples, n_classes]\n",
        "True binary labels or binary label indicators.\n",
        "y_score : array, shape = [n_samples] or [n_samples, n_classes]\n",
        "Target scores, can either be probability estimates of the positive class, confidence values, or no\n",
        "n-thresholded measure of\n",
        "decisions (as returned by “decision_function” on some classifiers).\n",
        "For binary y_true, y_score is supposed to be the score of the class with greater label.\n",
        "\"\"\"\n",
        "train_auc = []\n",
        "cv_auc = []\n",
        "neigh =linear_model.LinearRegression()\n",
        "neigh.fit(X_tr, y_train)\n",
        "y_test_pred =neigh.predict(X_te)\n",
        "#y_cv_pred =neigh.predict(X_cv)\n",
        "mean_squared_error(y_test,y_test_pred)\n"
      ],
      "execution_count": null,
      "outputs": [
        {
          "output_type": "execute_result",
          "data": {
            "text/plain": [
              "241116104525435.3"
            ]
          },
          "metadata": {
            "tags": []
          },
          "execution_count": 46
        }
      ]
    },
    {
      "cell_type": "code",
      "metadata": {
        "id": "4Oe2AJFTJo39",
        "colab_type": "code",
        "colab": {
          "base_uri": "https://localhost:8080/",
          "height": 1000
        },
        "outputId": "26140b1f-fc6a-4f88-ae89-4205698246eb"
      },
      "source": [
        "lm = linear_model.LinearRegression()\n",
        "model = lm.fit(X_tr, y_train)\n",
        "predictions = lm.predict(X_te)\n",
        "mean_squared_error(y_test,predictions)\n",
        "print(model.coef_)\n",
        "print(mean_squared_error(y_test,predictions))"
      ],
      "execution_count": null,
      "outputs": [
        {
          "output_type": "stream",
          "text": [
            "[ 0.00000000e+00 -1.50099316e+06 -1.33461461e+06 -1.08065839e+06\n",
            " -1.03788102e+06 -1.15888400e+06 -1.02323732e+06  0.00000000e+00\n",
            "  2.23823370e+07  0.00000000e+00 -1.36413284e+06 -1.41026356e+06\n",
            " -9.87606754e+05 -9.26256551e+05 -1.26436520e+06 -1.37981678e+06\n",
            " -1.52060913e+06  0.00000000e+00 -1.68044314e+06  0.00000000e+00\n",
            "  0.00000000e+00  0.00000000e+00 -9.15519955e+05  0.00000000e+00\n",
            " -8.03635164e+05  2.60577794e+05 -1.02031503e+06 -1.39492368e+06\n",
            "  0.00000000e+00  0.00000000e+00  0.00000000e+00 -4.34680187e+05\n",
            "  1.62489128e+06 -6.98806898e+05  0.00000000e+00 -3.48108639e+05\n",
            " -5.79308610e+04 -4.41228242e+05  7.38473192e+03 -1.07267605e+05\n",
            " -1.51017784e+06  0.00000000e+00  1.08926685e+07 -3.02759325e+05\n",
            " -4.50285929e+05  0.00000000e+00  8.90336965e+04 -1.72231808e+05\n",
            "  0.00000000e+00  1.69964844e+04 -7.80555664e+04 -1.40996899e+06\n",
            "  6.39461176e+04 -3.64376298e+04 -1.62226505e+06 -1.20724656e+06\n",
            " -3.19527314e+05 -1.61319863e+06 -6.40440236e+05 -1.37062094e+06\n",
            " -1.38684324e+06 -1.60459338e+06  0.00000000e+00  0.00000000e+00\n",
            " -1.20099341e+06  8.87344653e+03  1.08524805e+05 -1.35130096e+06\n",
            "  0.00000000e+00 -6.72269662e+05  1.77416788e+05  0.00000000e+00\n",
            "  6.28528755e+04  2.37055979e+05 -2.41322399e+05 -5.88754467e+04\n",
            " -2.49495380e+04  0.00000000e+00 -1.61754846e+05 -1.61114046e+06\n",
            " -1.04436294e+05  7.14512497e+04 -7.23708544e+04  2.82209747e+04\n",
            " -6.24354347e+05  4.12436117e+04 -1.70991219e+05  4.85553476e+05\n",
            " -8.45293785e+04 -1.45673792e+06  0.00000000e+00 -1.44913204e+06\n",
            "  9.33104457e+04 -2.07534496e+05 -1.53259625e+06 -8.96534243e+05\n",
            "  5.55195823e+04 -1.13894478e+04 -1.54708317e+05 -1.29530377e+06\n",
            " -1.49095408e+06 -2.41846030e+05  2.31425656e+05  1.44161605e+05\n",
            " -3.56697047e+05  1.22615823e+05 -6.08143881e+04  1.38246266e+05\n",
            " -1.47561552e+06 -1.32509332e+06 -1.17303025e+05  5.75346293e+05\n",
            " -6.35149729e+05 -4.70636516e+05 -6.88490074e+05 -1.36170156e+06\n",
            "  2.86471428e+07  7.93795478e+04 -1.43108950e+06 -1.54707487e+06\n",
            " -1.64035195e+05 -5.11800291e+05  0.00000000e+00 -1.60698691e+06\n",
            " -3.55790637e+05 -1.01393275e+06 -7.17921465e+05 -8.23436089e+04\n",
            " -1.35779713e+06 -1.42742115e+06 -1.39172974e+06  3.81726637e+06\n",
            " -3.99053491e+05  3.61047145e+05 -1.94123994e+04  1.39985430e+05\n",
            " -4.64377925e+04 -1.27085076e+06 -2.45207599e+05 -1.31623787e+06\n",
            "  0.00000000e+00 -3.22992431e+05 -1.74967414e+05  5.07948050e+04\n",
            " -3.40433577e+05 -1.34201552e+06  4.00682861e+04 -4.36208055e+04\n",
            "  0.00000000e+00  5.45094576e+03 -4.49382689e+05 -1.67113312e+05\n",
            " -3.18686118e+05 -9.01838885e+05 -1.47525926e+06 -8.76278808e+04\n",
            " -4.45277748e+05  0.00000000e+00  0.00000000e+00 -1.14799567e+06\n",
            " -2.44720553e+04  2.25604677e+05 -7.84824741e+05 -1.49582940e+06\n",
            " -5.04647038e+04 -1.52453952e+06 -1.49983381e+06 -1.72837999e+05\n",
            " -1.55085722e+06 -5.00470439e+04 -1.61272672e+06 -1.40533842e+06\n",
            " -1.05435950e+05 -1.41298973e+06 -7.57885772e+05  4.50711628e+04\n",
            " -1.07344277e+06  1.90243209e+05 -1.43493049e+06 -1.13118962e+06\n",
            " -5.67434789e+04 -7.31047452e+04 -5.59888915e+05  0.00000000e+00\n",
            "  2.85518963e+05 -1.31925930e+06 -1.38809227e+05  2.93762113e+05\n",
            " -1.21810173e+06 -3.58264330e+05  1.82138208e+05  2.75941221e+05\n",
            " -1.67632056e+05 -8.59513035e+04  1.23861631e+05 -1.30929159e+06\n",
            " -1.36856920e+06  8.16025917e+04 -1.56379663e+06  1.42913548e+05\n",
            " -6.08897804e+04  2.42382518e+04 -2.74899483e+05 -1.27200655e+06\n",
            " -4.02034540e+05 -2.23038573e+04  0.00000000e+00 -6.07064472e+05\n",
            " -1.31956022e+06 -4.45741364e+05 -1.17003432e+05  4.55868391e+04\n",
            " -1.46622530e+06 -1.52611119e+06  1.57067923e+05 -2.29063957e+05\n",
            " -1.44461611e+06 -5.15457068e+05 -1.93107867e+06  0.00000000e+00\n",
            " -1.98179290e+05 -1.49262308e+06 -1.83944698e+05 -5.42706237e+04\n",
            "  6.81884721e+03 -1.40958695e+06  0.00000000e+00  4.78769996e+04\n",
            "  1.17299117e+04  7.82284201e+05  8.63364786e+04 -1.33157353e+06\n",
            " -5.48865555e+05  3.76306889e+06 -1.64062689e+06  2.95780705e+04\n",
            "  2.91559412e+04 -3.74767411e+06 -3.34347830e+04 -1.34923161e+06\n",
            "  7.10275266e+05  1.48040444e+05 -3.98578535e+05 -5.47070693e+05\n",
            "  0.00000000e+00 -1.44129677e+06  1.87797605e+07  1.30624963e+05\n",
            " -1.25964031e+06 -1.81290736e+06  7.88002478e+04 -1.40029174e+06\n",
            " -1.05781558e+06  0.00000000e+00 -1.29479281e+06 -2.65979380e+05\n",
            " -1.69668263e+06 -1.26548182e+06  1.55917716e+05 -2.97334787e+05\n",
            "  7.20838974e+03 -1.17994835e+06  8.36533036e+04 -1.31551875e+06\n",
            "  8.66238724e+03 -1.30474810e+06 -1.00765256e+05  0.00000000e+00\n",
            " -1.53720654e+06  0.00000000e+00  2.56783185e+07 -1.23496783e+06\n",
            " -3.03388834e+05 -2.90247825e+04 -1.44912394e+06 -1.15319213e+05\n",
            " -2.56391738e+04 -1.28960408e+06  2.30502268e+04 -1.31276422e+06\n",
            "  1.05968906e+06  2.43086526e+06 -6.26394775e+04 -1.65044333e+06\n",
            " -1.50133094e+06 -1.55831006e+06 -7.60486578e+05  1.07356035e+07\n",
            " -1.52607354e+06 -9.40462508e+05  0.00000000e+00 -1.34971245e+05\n",
            " -1.36667248e+06 -4.47525989e+05  0.00000000e+00  0.00000000e+00\n",
            " -2.45771338e+05  7.45339958e+04  0.00000000e+00 -3.82465420e+05\n",
            " -8.19202304e+04 -1.00966500e+05 -1.11249142e+06 -1.17391203e+07\n",
            " -3.53613700e+05 -1.42634869e+06 -1.09927039e+05 -3.61582179e+05\n",
            " -2.11950544e+05 -7.89227722e+04 -3.25200050e+04  1.77171495e+05\n",
            " -1.36592527e+06  5.76993936e+06 -1.43954458e+06 -3.21204266e+05\n",
            " -1.45371620e+06  0.00000000e+00 -4.88333223e+05 -1.41565067e+06\n",
            "  1.11966854e+05 -1.53763238e+06 -4.30841455e+05 -2.19468570e+05\n",
            " -1.36423019e+07 -4.12894944e+05  0.00000000e+00 -1.47940883e+06\n",
            "  1.80100041e+05  2.75619444e+04  7.46763770e+04  0.00000000e+00\n",
            "  2.57468028e+05 -1.00461080e+05 -1.12880767e+06 -1.67843462e+04\n",
            " -1.31413133e+06 -1.16472973e+06 -5.09054293e+05 -1.09402094e+06\n",
            " -1.39899203e+06 -1.59656395e+06 -5.57677136e+05 -1.46332581e+06\n",
            "  2.74293108e+04 -1.54893205e+06 -6.72578857e+04 -7.33534879e+04\n",
            " -1.38883041e+06 -1.45641164e+06 -1.61940085e+06 -1.40847082e+06\n",
            " -1.29492382e+06 -1.44082594e+06  0.00000000e+00 -8.84346157e+04\n",
            "  1.15631778e+05 -3.08683423e+05  3.74806847e+04 -1.54936256e+06\n",
            " -1.42134940e+06  0.00000000e+00  5.46598928e+05 -1.22614832e+06\n",
            " -6.97824969e+03  0.00000000e+00 -2.93006237e+04  1.18933883e+04\n",
            " -1.41059923e+06 -1.34604536e+06 -1.40554026e+06 -3.50997280e+05\n",
            "  8.60285988e+04 -1.40643361e+06  1.38976337e+05 -1.71749032e+05\n",
            "  0.00000000e+00  0.00000000e+00  5.44613574e+04  0.00000000e+00\n",
            " -1.31340807e+06 -7.21589345e+04  6.53973072e+04  0.00000000e+00\n",
            "  3.61891710e+05 -5.38649587e+05  0.00000000e+00 -1.48132270e+06\n",
            " -4.13729565e+05 -2.03541429e+05 -6.57123254e+05 -2.34190827e+05\n",
            " -1.25482460e+06 -6.04360679e+05 -1.32090372e+06  4.85232441e+03\n",
            " -1.23751966e+06  0.00000000e+00  7.37484959e+03 -1.87510779e+04\n",
            " -1.40533539e+06  0.00000000e+00  0.00000000e+00 -1.06053614e+06\n",
            " -7.17674908e+05 -1.21455328e+06  5.81452057e+04  0.00000000e+00\n",
            " -1.74237764e+06  4.26202881e+04 -1.49463275e+06 -1.42867271e+06\n",
            "  8.20654611e+04  2.81284176e+04 -1.16567967e+05 -4.48167771e+05\n",
            "  1.03641860e+05 -8.09772465e+05 -3.64884260e+04 -2.50639607e+05\n",
            " -1.83000264e+07 -2.31407189e+05 -1.38454265e+06 -1.33173031e+06\n",
            " -2.62785652e+05 -1.40466278e+06 -5.20617819e+04 -1.57821420e+04\n",
            " -1.43738363e+06 -5.57786264e+05  2.83006186e+05 -8.47271473e+04\n",
            " -1.94319276e+05 -6.31107378e+05  1.01345536e+04  0.00000000e+00\n",
            " -8.99565636e+05 -1.67627547e+05 -5.85564522e+05 -1.46104549e+06\n",
            " -9.36596082e+05 -5.07181233e+05 -6.20648031e+04 -1.52634258e+06\n",
            " -3.58845147e+03  0.00000000e+00  1.09094575e+04 -1.49769534e+06\n",
            " -7.96638775e+04  0.00000000e+00 -1.31441591e+05 -2.85069787e+05\n",
            " -1.48186672e+06  0.00000000e+00 -4.84601234e+05 -1.14852740e+05\n",
            "  0.00000000e+00 -2.56593082e+04 -1.22091790e+06  5.27360342e+05\n",
            "  2.51803016e+04  1.54912845e+05  0.00000000e+00 -4.72459474e+05\n",
            "  5.99221662e+06 -6.67975645e+05  0.00000000e+00 -2.32963043e+05\n",
            "  1.91057629e+03 -5.16371980e+06  7.29022660e+04  0.00000000e+00\n",
            " -4.79118488e+05 -1.24362235e+06 -1.21288190e+06  5.57824063e+05\n",
            " -4.33016516e+05 -2.57629218e+05  2.03504601e+05 -4.09515346e+05\n",
            " -3.31592186e+04 -1.36762623e+05 -2.02362138e+05  0.00000000e+00\n",
            " -3.66382978e+05  9.76678867e+03 -1.71627395e+05 -6.82916259e+04\n",
            "  0.00000000e+00 -1.46198146e+06  8.42209545e+05 -8.84559810e+04\n",
            " -1.50369275e+06  7.39717188e+05  0.00000000e+00  0.00000000e+00\n",
            " -2.04212146e+04 -1.51335685e+05 -1.32856024e+06 -4.63493695e+05\n",
            " -3.14650320e+05 -1.33655885e+06  7.98021165e+04 -1.00874668e+05\n",
            "  0.00000000e+00 -1.16839284e+06  0.00000000e+00  0.00000000e+00\n",
            "  1.19307294e+04  1.22995106e+06 -1.38525698e+06 -9.52536772e+04\n",
            " -1.38800183e+06 -1.49104403e+06 -1.35986488e+05 -6.01567729e+04\n",
            "  1.97087834e+05 -2.34496630e+05 -1.42885096e+06  0.00000000e+00\n",
            "  2.78569016e+06 -1.43032488e+06 -1.39318081e+06 -1.83612624e+05\n",
            "  0.00000000e+00  0.00000000e+00 -1.39482613e+06  0.00000000e+00\n",
            " -8.15401618e+05  7.21114684e+04 -1.60934560e+06 -1.35081666e+06\n",
            " -1.21012037e+06  1.03363532e+05  1.32173024e+04 -7.14629281e+04\n",
            "  0.00000000e+00 -8.11850846e+05 -1.98315945e+07 -8.79647703e+04\n",
            " -2.50744359e+05 -1.98493349e+05 -1.62242401e+05 -1.22929997e+05\n",
            " -2.89794751e+05 -1.37029745e+06 -1.30649790e+06 -3.97393527e+05\n",
            " -1.38575829e+06  4.97814654e+04 -1.53307540e+06  2.41207997e+05\n",
            "  3.86075753e+04 -1.94173596e+05 -2.51101723e+05 -7.08468083e+04\n",
            "  2.78820171e+03 -1.03726802e+05 -5.87716631e+05 -5.34242553e+03\n",
            " -1.41398776e+06  4.70789286e+04  0.00000000e+00 -1.20697685e+06\n",
            " -4.65473453e+05 -1.34037469e+06 -1.37695764e+06  0.00000000e+00\n",
            " -9.71839115e+05 -6.68728681e+05  3.23803814e+05 -4.09655247e+05\n",
            " -1.43171474e+06  3.04687174e+04 -9.24507041e+04 -1.25008901e+06\n",
            " -1.42941217e+06 -1.35064555e+05 -1.14059744e+06 -4.34680187e+05\n",
            " -3.61937141e+04  0.00000000e+00  0.00000000e+00 -4.39436125e+05\n",
            "  1.57548683e+05  2.36078929e+05  0.00000000e+00 -1.62338695e+06\n",
            " -4.15556203e+05 -1.57035583e+05 -8.96386896e+05  2.04742385e+03\n",
            "  0.00000000e+00  0.00000000e+00  9.41350123e+04 -1.43920414e+06\n",
            " -1.16597506e+05 -1.16846103e+06 -1.64015652e+06  0.00000000e+00\n",
            " -8.05670397e+04 -1.30080409e+06  4.84398615e+04  0.00000000e+00\n",
            " -3.91957404e+05 -2.18570966e+05  1.79102981e+05  3.04041608e+05\n",
            " -1.78151257e+05  0.00000000e+00 -5.02886034e+05 -6.85279215e+04\n",
            " -1.24655513e+06 -5.73722482e+04  1.43499231e+05 -3.49182270e+05\n",
            " -2.16610334e+05  0.00000000e+00  0.00000000e+00  0.00000000e+00\n",
            "  0.00000000e+00  0.00000000e+00 -4.19397030e+05  1.68373804e+04\n",
            " -5.76198087e+05 -1.42380204e+06 -1.26542979e+06 -1.46784951e+06\n",
            "  2.01840835e+04 -1.34790392e+06  1.14710866e+05 -5.36697011e+05\n",
            " -2.74255508e+05 -1.83959841e+05 -3.90707793e+05 -1.67262112e+06\n",
            " -1.95570062e+06  1.89046043e+04  0.00000000e+00 -3.23012341e+05\n",
            "  4.24738764e+05 -7.96363453e+02  0.00000000e+00 -1.29843060e+05\n",
            " -9.03300466e+04 -2.65450805e+05 -3.53773547e+05 -1.16469864e+06\n",
            "  3.54354920e+04  4.20981706e+03  0.00000000e+00 -5.34505786e+05\n",
            "  0.00000000e+00  2.90657907e+05  0.00000000e+00 -5.81350160e+04\n",
            " -1.38112561e+06 -1.44298011e+06  0.00000000e+00  5.30289764e+05\n",
            " -1.23128983e+06  4.63829649e+04 -9.82895645e+05  5.77174836e+04\n",
            "  0.00000000e+00 -1.42226223e+06 -1.17441663e+06  0.00000000e+00\n",
            " -5.59861559e+05 -1.52014822e+06  3.91530507e+05 -1.05440702e+06\n",
            " -1.32511213e+05 -2.33694236e+05 -1.68439729e+06 -1.42631006e+06\n",
            "  4.57609711e+05 -2.91325267e+05 -1.15079154e+06  0.00000000e+00\n",
            "  0.00000000e+00  0.00000000e+00  0.00000000e+00  0.00000000e+00\n",
            "  0.00000000e+00  0.00000000e+00  0.00000000e+00  0.00000000e+00\n",
            "  0.00000000e+00  0.00000000e+00  0.00000000e+00  0.00000000e+00\n",
            "  0.00000000e+00  0.00000000e+00  0.00000000e+00  0.00000000e+00\n",
            "  0.00000000e+00  0.00000000e+00 -3.33272618e+06 -1.42409240e+06\n",
            " -1.16951424e+06 -1.64894357e+06 -1.99804707e+06  0.00000000e+00\n",
            "  0.00000000e+00 -1.17900136e+06 -1.40690141e+06 -2.90324931e+06\n",
            " -1.79246027e+06  0.00000000e+00 -1.33141606e+06  0.00000000e+00\n",
            " -1.45976944e+06 -1.81915427e+06 -1.37223748e+06 -1.18691283e+06\n",
            " -1.66755757e+06 -1.19232081e+06 -1.49022524e+06 -1.65202418e+06\n",
            " -1.24879858e+06  0.00000000e+00  0.00000000e+00  0.00000000e+00\n",
            "  0.00000000e+00 -1.35738886e+06 -1.03843251e+07 -1.42907699e+06\n",
            "  0.00000000e+00 -6.06825616e+06  0.00000000e+00 -1.55621046e+06\n",
            "  0.00000000e+00  0.00000000e+00  0.00000000e+00  0.00000000e+00\n",
            "  0.00000000e+00 -1.53320340e+06 -3.42993765e+06  0.00000000e+00\n",
            "  0.00000000e+00 -1.77650604e+06 -1.30277349e+06 -1.59791109e+06\n",
            " -1.45820892e+06  0.00000000e+00  0.00000000e+00  0.00000000e+00\n",
            " -4.58104158e+06 -6.00558344e+06 -3.68726320e+06 -2.05147358e+06\n",
            " -1.36110954e+06 -3.84366510e+06 -2.18617671e+06  0.00000000e+00\n",
            "  0.00000000e+00 -7.73706771e+06  0.00000000e+00  0.00000000e+00\n",
            " -2.03501604e+06  0.00000000e+00  0.00000000e+00 -1.73326960e+06\n",
            "  0.00000000e+00 -6.18597329e+06 -1.58234652e+06  0.00000000e+00\n",
            " -2.88316255e+06 -5.65261944e+06  0.00000000e+00  0.00000000e+00\n",
            "  0.00000000e+00  0.00000000e+00 -1.16113871e+06  0.00000000e+00\n",
            " -6.50869585e+06 -1.46565871e+06  0.00000000e+00 -1.45025592e+06\n",
            " -1.27995166e+06 -2.22010648e+06 -2.34047730e+06 -2.16410631e+06\n",
            "  0.00000000e+00  0.00000000e+00  0.00000000e+00 -3.18137709e+06\n",
            "  0.00000000e+00  0.00000000e+00 -1.74855246e+06 -2.00119939e+06\n",
            " -1.97868240e+06 -1.55028344e+06  0.00000000e+00 -6.28827435e+06\n",
            "  0.00000000e+00  0.00000000e+00  0.00000000e+00 -2.33666547e+06\n",
            " -2.04831407e+06  0.00000000e+00  0.00000000e+00 -1.40527642e+06\n",
            "  0.00000000e+00  0.00000000e+00  0.00000000e+00 -1.44970381e+06\n",
            " -2.49759324e+07 -2.86497213e+06  0.00000000e+00 -2.54802066e+06\n",
            "  0.00000000e+00 -1.39331673e+06 -9.10595098e+06  0.00000000e+00\n",
            " -1.40997679e+06 -2.91345665e+06 -1.39665448e+06  0.00000000e+00\n",
            "  0.00000000e+00 -3.04211804e+06  0.00000000e+00  0.00000000e+00\n",
            "  0.00000000e+00  0.00000000e+00  0.00000000e+00  0.00000000e+00\n",
            "  3.56757308e+08]\n",
            "241116104525435.3\n"
          ],
          "name": "stdout"
        }
      ]
    },
    {
      "cell_type": "code",
      "metadata": {
        "id": "vZQJRoWgbC-K",
        "colab_type": "code",
        "colab": {
          "base_uri": "https://localhost:8080/",
          "height": 170
        },
        "outputId": "1b413efd-1af6-45a7-c1d9-b35f7f1d6bea"
      },
      "source": [
        "import xgboost as xgb\n",
        "model1=xgb.XGBRegressor(n_estimators=1000,learning_rate=0.01,max_depth=2,n_jobs=-1,random_state=2)\n",
        "model1.fit(X_tr,y_train)\n",
        "print(model1)\n",
        "pred=model.predict(X_te)\n",
        "print(mean_squared_error(y_test,pred))\n"
      ],
      "execution_count": null,
      "outputs": [
        {
          "output_type": "stream",
          "text": [
            "[04:10:43] WARNING: /workspace/src/objective/regression_obj.cu:152: reg:linear is now deprecated in favor of reg:squarederror.\n",
            "XGBRegressor(base_score=0.5, booster='gbtree', colsample_bylevel=1,\n",
            "             colsample_bynode=1, colsample_bytree=1, gamma=0,\n",
            "             importance_type='gain', learning_rate=0.01, max_delta_step=0,\n",
            "             max_depth=2, min_child_weight=1, missing=None, n_estimators=1000,\n",
            "             n_jobs=-1, nthread=None, objective='reg:linear', random_state=2,\n",
            "             reg_alpha=0, reg_lambda=1, scale_pos_weight=1, seed=None,\n",
            "             silent=None, subsample=1, verbosity=1)\n",
            "391840535195630.0\n"
          ],
          "name": "stdout"
        }
      ]
    },
    {
      "cell_type": "markdown",
      "metadata": {
        "id": "GEvwysIewRbZ",
        "colab_type": "text"
      },
      "source": [
        "<h2><b> Hyper Parameter Tunning through GridSearchCV in XGboost </b></h2>"
      ]
    },
    {
      "cell_type": "code",
      "metadata": {
        "id": "QvjXEDRC8Y3F",
        "colab_type": "code",
        "colab": {
          "base_uri": "https://localhost:8080/",
          "height": 1000
        },
        "outputId": "d6b9917f-37a8-42ad-901d-b7930a1bccfc"
      },
      "source": [
        "from sklearn.model_selection import GridSearchCV\n",
        "import xgboost as xgb\n",
        "\n",
        "from sklearn.ensemble import RandomForestClassifier\n",
        "estimators=[10, 50, 100, 200, 300,500, 1000]\n",
        "depth=[2, 3, 4,7, 8, 10,12]\n",
        "\n",
        "for n in estimators:\n",
        "  for d in depth:\n",
        "    model =xgb.XGBRegressor(n_estimators=n,learning_rate=0.01,max_depth=d,n_jobs=-1,random_state=2)\n",
        "    model.fit(X_tr, y_train)\n",
        "    pred=model.predict(X_te)\n",
        "    print(mean_squared_error(y_test,pred))\n",
        "    print(n,d,\"\\n\")\n",
        "\n",
        "    \n"
      ],
      "execution_count": null,
      "outputs": [
        {
          "output_type": "stream",
          "text": [
            "[03:38:26] WARNING: /workspace/src/objective/regression_obj.cu:152: reg:linear is now deprecated in favor of reg:squarederror.\n",
            "225067863552662.62\n",
            "10 2 \n",
            "\n",
            "[03:38:27] WARNING: /workspace/src/objective/regression_obj.cu:152: reg:linear is now deprecated in favor of reg:squarederror.\n",
            "217301479360221.53\n",
            "10 3 \n",
            "\n",
            "[03:38:28] WARNING: /workspace/src/objective/regression_obj.cu:152: reg:linear is now deprecated in favor of reg:squarederror.\n",
            "228412472408679.06\n",
            "10 4 \n",
            "\n",
            "[03:38:29] WARNING: /workspace/src/objective/regression_obj.cu:152: reg:linear is now deprecated in favor of reg:squarederror.\n",
            "243196367600026.12\n",
            "10 7 \n",
            "\n",
            "[03:38:30] WARNING: /workspace/src/objective/regression_obj.cu:152: reg:linear is now deprecated in favor of reg:squarederror.\n",
            "245614334119734.53\n",
            "10 8 \n",
            "\n",
            "[03:38:32] WARNING: /workspace/src/objective/regression_obj.cu:152: reg:linear is now deprecated in favor of reg:squarederror.\n",
            "246761065991174.84\n",
            "10 10 \n",
            "\n",
            "[03:38:33] WARNING: /workspace/src/objective/regression_obj.cu:152: reg:linear is now deprecated in favor of reg:squarederror.\n",
            "246752001746062.5\n",
            "10 12 \n",
            "\n",
            "[03:38:35] WARNING: /workspace/src/objective/regression_obj.cu:152: reg:linear is now deprecated in favor of reg:squarederror.\n",
            "152868017179835.1\n",
            "50 2 \n",
            "\n",
            "[03:38:37] WARNING: /workspace/src/objective/regression_obj.cu:152: reg:linear is now deprecated in favor of reg:squarederror.\n",
            "133369534652106.03\n",
            "50 3 \n",
            "\n",
            "[03:38:40] WARNING: /workspace/src/objective/regression_obj.cu:152: reg:linear is now deprecated in favor of reg:squarederror.\n",
            "166302612392029.28\n",
            "50 4 \n",
            "\n",
            "[03:38:44] WARNING: /workspace/src/objective/regression_obj.cu:152: reg:linear is now deprecated in favor of reg:squarederror.\n",
            "223450884657524.75\n",
            "50 7 \n",
            "\n",
            "[03:38:48] WARNING: /workspace/src/objective/regression_obj.cu:152: reg:linear is now deprecated in favor of reg:squarederror.\n",
            "223849002567361.6\n",
            "50 8 \n",
            "\n",
            "[03:38:54] WARNING: /workspace/src/objective/regression_obj.cu:152: reg:linear is now deprecated in favor of reg:squarederror.\n",
            "235879262572992.9\n",
            "50 10 \n",
            "\n",
            "[03:39:00] WARNING: /workspace/src/objective/regression_obj.cu:152: reg:linear is now deprecated in favor of reg:squarederror.\n",
            "237170592703307.47\n",
            "50 12 \n",
            "\n",
            "[03:39:08] WARNING: /workspace/src/objective/regression_obj.cu:152: reg:linear is now deprecated in favor of reg:squarederror.\n",
            "120599102062034.08\n",
            "100 2 \n",
            "\n",
            "[03:39:12] WARNING: /workspace/src/objective/regression_obj.cu:152: reg:linear is now deprecated in favor of reg:squarederror.\n",
            "117652394309401.02\n",
            "100 3 \n",
            "\n",
            "[03:39:17] WARNING: /workspace/src/objective/regression_obj.cu:152: reg:linear is now deprecated in favor of reg:squarederror.\n",
            "147866317446275.6\n",
            "100 4 \n",
            "\n",
            "[03:39:23] WARNING: /workspace/src/objective/regression_obj.cu:152: reg:linear is now deprecated in favor of reg:squarederror.\n",
            "237589907735752.28\n",
            "100 7 \n",
            "\n",
            "[03:39:33] WARNING: /workspace/src/objective/regression_obj.cu:152: reg:linear is now deprecated in favor of reg:squarederror.\n",
            "231199198416576.66\n",
            "100 8 \n",
            "\n",
            "[03:39:43] WARNING: /workspace/src/objective/regression_obj.cu:152: reg:linear is now deprecated in favor of reg:squarederror.\n",
            "242435539547009.72\n",
            "100 10 \n",
            "\n",
            "[03:39:55] WARNING: /workspace/src/objective/regression_obj.cu:152: reg:linear is now deprecated in favor of reg:squarederror.\n",
            "243752317804734.84\n",
            "100 12 \n",
            "\n",
            "[03:40:10] WARNING: /workspace/src/objective/regression_obj.cu:152: reg:linear is now deprecated in favor of reg:squarederror.\n",
            "107263651055402.53\n",
            "200 2 \n",
            "\n",
            "[03:40:18] WARNING: /workspace/src/objective/regression_obj.cu:152: reg:linear is now deprecated in favor of reg:squarederror.\n",
            "121968772088607.14\n",
            "200 3 \n",
            "\n",
            "[03:40:28] WARNING: /workspace/src/objective/regression_obj.cu:152: reg:linear is now deprecated in favor of reg:squarederror.\n",
            "158894023116353.47\n",
            "200 4 \n",
            "\n",
            "[03:40:40] WARNING: /workspace/src/objective/regression_obj.cu:152: reg:linear is now deprecated in favor of reg:squarederror.\n",
            "270656272794578.84\n",
            "200 7 \n",
            "\n",
            "[03:40:58] WARNING: /workspace/src/objective/regression_obj.cu:152: reg:linear is now deprecated in favor of reg:squarederror.\n",
            "288937494398943.94\n",
            "200 8 \n",
            "\n",
            "[03:41:18] WARNING: /workspace/src/objective/regression_obj.cu:152: reg:linear is now deprecated in favor of reg:squarederror.\n",
            "278869241020103.25\n",
            "200 10 \n",
            "\n",
            "[03:41:42] WARNING: /workspace/src/objective/regression_obj.cu:152: reg:linear is now deprecated in favor of reg:squarederror.\n",
            "281369463087329.88\n",
            "200 12 \n",
            "\n",
            "[03:42:11] WARNING: /workspace/src/objective/regression_obj.cu:152: reg:linear is now deprecated in favor of reg:squarederror.\n",
            "100801812347773.66\n",
            "300 2 \n",
            "\n",
            "[03:42:23] WARNING: /workspace/src/objective/regression_obj.cu:152: reg:linear is now deprecated in favor of reg:squarederror.\n",
            "123667808480964.78\n",
            "300 3 \n",
            "\n",
            "[03:42:37] WARNING: /workspace/src/objective/regression_obj.cu:152: reg:linear is now deprecated in favor of reg:squarederror.\n",
            "152354109749146.66\n",
            "300 4 \n",
            "\n",
            "[03:42:55] WARNING: /workspace/src/objective/regression_obj.cu:152: reg:linear is now deprecated in favor of reg:squarederror.\n",
            "294055935680657.5\n",
            "300 7 \n",
            "\n",
            "[03:43:22] WARNING: /workspace/src/objective/regression_obj.cu:152: reg:linear is now deprecated in favor of reg:squarederror.\n",
            "342048529007394.4\n",
            "300 8 \n",
            "\n",
            "[03:43:51] WARNING: /workspace/src/objective/regression_obj.cu:152: reg:linear is now deprecated in favor of reg:squarederror.\n",
            "310134096460826.7\n",
            "300 10 \n",
            "\n",
            "[03:44:28] WARNING: /workspace/src/objective/regression_obj.cu:152: reg:linear is now deprecated in favor of reg:squarederror.\n",
            "307502806735197.25\n",
            "300 12 \n",
            "\n",
            "[03:45:13] WARNING: /workspace/src/objective/regression_obj.cu:152: reg:linear is now deprecated in favor of reg:squarederror.\n",
            "89493749900162.8\n",
            "500 2 \n",
            "\n",
            "[03:45:33] WARNING: /workspace/src/objective/regression_obj.cu:152: reg:linear is now deprecated in favor of reg:squarederror.\n",
            "118343885601093.73\n",
            "500 3 \n",
            "\n",
            "[03:45:57] WARNING: /workspace/src/objective/regression_obj.cu:152: reg:linear is now deprecated in favor of reg:squarederror.\n",
            "153211625910697.72\n",
            "500 4 \n",
            "\n",
            "[03:46:26] WARNING: /workspace/src/objective/regression_obj.cu:152: reg:linear is now deprecated in favor of reg:squarederror.\n",
            "334420801524084.56\n",
            "500 7 \n",
            "\n",
            "[03:47:10] WARNING: /workspace/src/objective/regression_obj.cu:152: reg:linear is now deprecated in favor of reg:squarederror.\n",
            "381835286309740.5\n",
            "500 8 \n",
            "\n",
            "[03:48:01] WARNING: /workspace/src/objective/regression_obj.cu:152: reg:linear is now deprecated in favor of reg:squarederror.\n",
            "359021013219500.2\n",
            "500 10 \n",
            "\n",
            "[03:49:06] WARNING: /workspace/src/objective/regression_obj.cu:152: reg:linear is now deprecated in favor of reg:squarederror.\n",
            "361499237317695.0\n",
            "500 12 \n",
            "\n",
            "[03:50:23] WARNING: /workspace/src/objective/regression_obj.cu:152: reg:linear is now deprecated in favor of reg:squarederror.\n",
            "98291586734419.34\n",
            "1000 2 \n",
            "\n",
            "[03:51:03] WARNING: /workspace/src/objective/regression_obj.cu:152: reg:linear is now deprecated in favor of reg:squarederror.\n",
            "121957924907711.25\n",
            "1000 3 \n",
            "\n",
            "[03:51:53] WARNING: /workspace/src/objective/regression_obj.cu:152: reg:linear is now deprecated in favor of reg:squarederror.\n",
            "165984237356534.0\n",
            "1000 4 \n",
            "\n",
            "[03:52:52] WARNING: /workspace/src/objective/regression_obj.cu:152: reg:linear is now deprecated in favor of reg:squarederror.\n",
            "342221048586180.0\n",
            "1000 7 \n",
            "\n",
            "[03:54:23] WARNING: /workspace/src/objective/regression_obj.cu:152: reg:linear is now deprecated in favor of reg:squarederror.\n",
            "397894198144352.94\n",
            "1000 8 \n",
            "\n",
            "[03:56:06] WARNING: /workspace/src/objective/regression_obj.cu:152: reg:linear is now deprecated in favor of reg:squarederror.\n",
            "395645936730518.3\n",
            "1000 10 \n",
            "\n",
            "[03:58:12] WARNING: /workspace/src/objective/regression_obj.cu:152: reg:linear is now deprecated in favor of reg:squarederror.\n",
            "391840535195630.0\n",
            "1000 12 \n",
            "\n"
          ],
          "name": "stdout"
        }
      ]
    },
    {
      "cell_type": "markdown",
      "metadata": {
        "id": "hIpBE2alkVbR",
        "colab_type": "text"
      },
      "source": [
        "##<b>Conclusion</b>"
      ]
    },
    {
      "cell_type": "markdown",
      "metadata": {
        "id": "za8XGtLckakO",
        "colab_type": "text"
      },
      "source": [
        "<ol>Steps of Creating this model\n",
        "  <li>Check Null and Missing Values in Dataset</li>\n",
        "  <li> Do EDA </li>\n",
        "  <li> Convert Categorical variable into one hot encoding </li>\n",
        "  <li> normalized the numerical data</li>\n",
        "  <li> Create a simple model </li>\n",
        "  <li> Get RMSE score </li>\n",
        "</ol>\n",
        "I just want to know that the score that is got is valid or not.\n",
        "And is there any procedure is missing or tell me right way to create a model.\n",
        "\n",
        "Where I am getting wrong ! tell me......"
      ]
    }
  ]
}